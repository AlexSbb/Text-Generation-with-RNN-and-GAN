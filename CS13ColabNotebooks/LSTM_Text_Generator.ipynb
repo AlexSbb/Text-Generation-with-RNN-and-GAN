{
  "nbformat": 4,
  "nbformat_minor": 0,
  "metadata": {
    "colab": {
      "name": "LSTM Text Generator.ipynb",
      "provenance": [],
      "collapsed_sections": [],
      "toc_visible": true,
      "mount_file_id": "1ted1DR7HLoIGntLLePQqHu2gK-AEx0Tq",
      "authorship_tag": "ABX9TyOMAQ3CsXDDJGC4vreG9QNe",
      "include_colab_link": true
    },
    "kernelspec": {
      "name": "python3",
      "display_name": "Python 3"
    },
    "accelerator": "GPU"
  },
  "cells": [
    {
      "cell_type": "markdown",
      "metadata": {
        "id": "view-in-github",
        "colab_type": "text"
      },
      "source": [
        "<a href=\"https://colab.research.google.com/github/AlexSbb/Text-Generation-with-RNN-and-GAN/blob/main/CS13ColabNotebooks/LSTM_Text_Generator.ipynb\" target=\"_parent\"><img src=\"https://colab.research.google.com/assets/colab-badge.svg\" alt=\"Open In Colab\"/></a>"
      ]
    },
    {
      "cell_type": "markdown",
      "metadata": {
        "id": "Vtx-egydOGoG"
      },
      "source": [
        "Import all necessary libraries:"
      ]
    },
    {
      "cell_type": "code",
      "metadata": {
        "colab": {
          "base_uri": "https://localhost:8080/"
        },
        "id": "KoK2MxRDLkou",
        "outputId": "00a3fc80-5ff8-42c4-b7d7-e71ba1d096e8"
      },
      "source": [
        "import numpy as np\r\n",
        "import tensorflow as tf\r\n",
        "import tensorflow_probability as tfp\r\n",
        "import time\r\n",
        "import math\r\n",
        "import random\r\n",
        "print('TensorFlow version (should be 2.4.1):  ',tf.__version__)"
      ],
      "execution_count": null,
      "outputs": [
        {
          "output_type": "stream",
          "text": [
            "TensorFlow version (should be 2.4.1):   2.4.1\n"
          ],
          "name": "stdout"
        }
      ]
    },
    {
      "cell_type": "markdown",
      "metadata": {
        "id": "RPppKMxkOuIw"
      },
      "source": [
        "# Open, read and process the text file\r\n",
        "In our case the we use the log file from an Elevator Group Control System simulation - \"ElevatorLogFile.txt\""
      ]
    },
    {
      "cell_type": "code",
      "metadata": {
        "colab": {
          "base_uri": "https://localhost:8080/"
        },
        "id": "IHi_SsjgOkGR",
        "outputId": "e7cf3f09-9b05-4022-9709-5688fa041a1c"
      },
      "source": [
        "PATH_TO_FILE = \"/content/drive/MyDrive/Colab Notebooks/CS13ColabNotebooks/ElevatorLogFile.txt\"\r\n",
        "\r\n",
        "# Open and read the whole txt file\r\n",
        "def open_and_read_test_file (path :str):\r\n",
        "    with open(path) as text_file:\r\n",
        "        text = text_file.read()\r\n",
        "    print('Number of characters in the log file:', len(text))\r\n",
        "    print('Number of words in the log file (with whitespace as a splitter):', len(text.split()))\r\n",
        "    return text\r\n",
        "\r\n",
        "file_text = open_and_read_test_file(PATH_TO_FILE)"
      ],
      "execution_count": null,
      "outputs": [
        {
          "output_type": "stream",
          "text": [
            "Number of characters in the log file: 73037\n",
            "Number of words in the log file (with whitespace as a splitter): 9010\n"
          ],
          "name": "stdout"
        }
      ]
    },
    {
      "cell_type": "markdown",
      "metadata": {
        "id": "FDu1Fqi2Y5d5"
      },
      "source": [
        "Creating a dictionary from a text file. \r\n",
        "We will use a character-level dictionary. To do this, you need to count the number of unique characters in the text file. Each character is then assigned a unique sequence number. As a result, we will get two dictionaries, one for converting characters to numbers, and the second for reverse conversion."
      ]
    },
    {
      "cell_type": "code",
      "metadata": {
        "colab": {
          "base_uri": "https://localhost:8080/"
        },
        "id": "LAASttqCZk-F",
        "outputId": "054c6248-4a00-4a3c-eedb-a322533b3034"
      },
      "source": [
        "def dictionary_from_text(text:str):\r\n",
        "  set_of_uniq_ch = set(text) # set of uniq characters from text\r\n",
        "  print('Number of uniq characters in the log file:', len(set_of_uniq_ch))\r\n",
        "  char_to_index = {char:index for index, char in enumerate(set_of_uniq_ch)}\r\n",
        "  index_to_char = {index:char for char,index in char_to_index.items()}\r\n",
        "  return char_to_index, index_to_char\r\n",
        "\r\n",
        "char_to_index, index_to_char =  dictionary_from_text(file_text)"
      ],
      "execution_count": null,
      "outputs": [
        {
          "output_type": "stream",
          "text": [
            "Number of uniq characters in the log file: 54\n"
          ],
          "name": "stdout"
        }
      ]
    },
    {
      "cell_type": "markdown",
      "metadata": {
        "id": "S_qiB1ynb6cw"
      },
      "source": [
        "In order to make it convenient to use dictionaries, I will create two auxiliary functions, for converting text to numbers and for reverse conversion."
      ]
    },
    {
      "cell_type": "code",
      "metadata": {
        "id": "Efsc1wT_awSH"
      },
      "source": [
        "def text_to_numbers(dictionary: dict, text: str):\r\n",
        "  numbers = [dictionary[char] for char in text]\r\n",
        "  return numbers\r\n",
        "\r\n",
        "def numbers_to_text(dictionary: dict, numbers: list):\r\n",
        "  text =\"\"\r\n",
        "  for num in numbers:\r\n",
        "    # text += str(dictionary[num])\r\n",
        "    text += dictionary[num]\r\n",
        "  return text"
      ],
      "execution_count": null,
      "outputs": []
    },
    {
      "cell_type": "markdown",
      "metadata": {
        "id": "zGiZZKUMcg3o"
      },
      "source": [
        "Now we can easily convert our entire text file to numbers"
      ]
    },
    {
      "cell_type": "code",
      "metadata": {
        "colab": {
          "base_uri": "https://localhost:8080/"
        },
        "id": "MfbEQXw9crGj",
        "outputId": "9e1bb6c0-4ccf-4283-c618-c1e670935ef2"
      },
      "source": [
        "whole_text_as_numbers = text_to_numbers(char_to_index, file_text)\r\n",
        "\r\n",
        "# Test:\r\n",
        "first_64_numbers = whole_text_as_numbers[0:64]\r\n",
        "print(\"First 64 numberst from 'whole_text_as_numbers':\")\r\n",
        "print(first_64_numbers)\r\n",
        "# test reverse conversion\r\n",
        "reverse_conversion = numbers_to_text(index_to_char, first_64_numbers)\r\n",
        "print(\"Conversin from numbers to text:\")\r\n",
        "print(reverse_conversion)"
      ],
      "execution_count": null,
      "outputs": [
        {
          "output_type": "stream",
          "text": [
            "First 64 numberst from 'whole_text_as_numbers':\n",
            "[19, 49, 25, 7, 15, 18, 17, 33, 15, 51, 51, 50, 33, 47, 19, 49, 25, 7, 15, 18, 17, 33, 15, 51, 51, 50, 33, 25, 33, 50, 14, 16, 32, 48, 48, 48, 27, 1, 49, 25, 31, 14, 11, 11, 50, 18, 20, 50, 33, 47, 19, 49, 25, 35, 50, 18, 50, 33, 14, 17, 0, 18, 20, 25]\n",
            "Conversin from numbers to text:\n",
            "0: Controller_0: Controller ready...\n",
            "1: Passenger_0: Generating \n"
          ],
          "name": "stdout"
        }
      ]
    },
    {
      "cell_type": "markdown",
      "metadata": {
        "id": "nVWU16K_4oXn"
      },
      "source": [
        "To create a text generator, there are two ways to divide a sequence into x (input) and y(output, labels):\r\n",
        "![Split_seq.png](data:image/png;base64,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)\r\n"
      ]
    },
    {
      "cell_type": "code",
      "metadata": {
        "colab": {
          "base_uri": "https://localhost:8080/"
        },
        "id": "s9d03vFk54Yg",
        "outputId": "17d2b56a-9a9f-4804-93c0-20c87da740d1"
      },
      "source": [
        "#Split the input sequence into x and y, where x and y have the same shape\r\n",
        "def split_to_x_y(sequence: list, x_length: int = 128, step: int = 3):\r\n",
        "    x = []\r\n",
        "    y = []\r\n",
        "    for i in range(0, len(sequence) - x_length, step):\r\n",
        "        x.append(np.array(sequence[i: i + x_length]) )\r\n",
        "        y.append(np.array(sequence[i+1:i+1 + x_length]))\r\n",
        "    print(\"Number of sequences:\", len(x))\r\n",
        "    x = np.array(x)\r\n",
        "    y = np.array(y)   \r\n",
        "    print('x.shape=', x.shape)\r\n",
        "    print('y.shape=', y.shape)\r\n",
        "    return x , y\r\n",
        "\r\n",
        "# Left one last element in a sequence\r\n",
        "def take_last_element(original_y: np.array):\r\n",
        "  y_1 = [y[-1] for y in original_y]\r\n",
        "  y_1 = np.array(y_1) \r\n",
        "  print('y_1.shape=', y_1.shape)\r\n",
        "  return y_1\r\n",
        "\r\n",
        "x, y = split_to_x_y(whole_text_as_numbers, x_length = 128, step = 3)\r\n",
        "y_1 = take_last_element(y)"
      ],
      "execution_count": null,
      "outputs": [
        {
          "output_type": "stream",
          "text": [
            "Number of sequences: 24303\n",
            "x.shape= (24303, 128)\n",
            "y.shape= (24303, 128)\n",
            "y_1.shape= (24303,)\n"
          ],
          "name": "stdout"
        }
      ]
    },
    {
      "cell_type": "markdown",
      "metadata": {
        "id": "T7QfdtamJXjW"
      },
      "source": [
        "# Important note about  the LSTM layer"
      ]
    },
    {
      "cell_type": "code",
      "metadata": {
        "id": "zXwGsS2mJjwO",
        "colab": {
          "base_uri": "https://localhost:8080/"
        },
        "outputId": "14c51077-8c9f-48c7-cffb-0de4b6b598b5"
      },
      "source": [
        "input = tf.random.normal(shape=(2,128,54))\r\n",
        "input.shape"
      ],
      "execution_count": null,
      "outputs": [
        {
          "output_type": "execute_result",
          "data": {
            "text/plain": [
              "TensorShape([2, 128, 54])"
            ]
          },
          "metadata": {
            "tags": []
          },
          "execution_count": 7
        }
      ]
    },
    {
      "cell_type": "code",
      "metadata": {
        "colab": {
          "base_uri": "https://localhost:8080/"
        },
        "id": "n4hryKTiLNHA",
        "outputId": "2e59f666-da17-4a03-dfca-77dffa6bc803"
      },
      "source": [
        "lstm_v1 = tf.keras.layers.LSTM(8)\r\n",
        "output = lstm_v1(input)\r\n",
        "output.shape"
      ],
      "execution_count": null,
      "outputs": [
        {
          "output_type": "execute_result",
          "data": {
            "text/plain": [
              "TensorShape([2, 8])"
            ]
          },
          "metadata": {
            "tags": []
          },
          "execution_count": 8
        }
      ]
    },
    {
      "cell_type": "code",
      "metadata": {
        "colab": {
          "base_uri": "https://localhost:8080/"
        },
        "id": "WD5N8ZYcLQNO",
        "outputId": "4775e7dc-ee53-4664-af27-05de5edeb4fa"
      },
      "source": [
        "lstm_v2 = tf.keras.layers.LSTM(8,return_sequences=True)\r\n",
        "whole_seq_output = lstm_v2(input)\r\n",
        "print(\"whole_seq_output.shape\", whole_seq_output.shape)"
      ],
      "execution_count": null,
      "outputs": [
        {
          "output_type": "stream",
          "text": [
            "whole_seq_output.shape (2, 128, 8)\n"
          ],
          "name": "stdout"
        }
      ]
    },
    {
      "cell_type": "markdown",
      "metadata": {
        "id": "UuAJRdr4D0yc"
      },
      "source": [
        "![LSTM Seq.png](data:image/png;base64,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)"
      ]
    },
    {
      "cell_type": "code",
      "metadata": {
        "colab": {
          "base_uri": "https://localhost:8080/"
        },
        "id": "wgd-1-yLLTVO",
        "outputId": "0e0afeba-0fbc-4b80-efbc-0aa11e94228e"
      },
      "source": [
        "lstm_v3 = tf.keras.layers.LSTM(8,return_sequences=True, return_state=True)\r\n",
        "whole_seq_output, final_memory_state, final_carry_state = lstm_v3(input)\r\n",
        "print(\"whole_seq_output.shape  \",    whole_seq_output.shape)\r\n",
        "print(\"final_memory_state.shape\",  final_memory_state.shape)\r\n",
        "print(\"final_carry_state.shape \",   final_carry_state.shape)"
      ],
      "execution_count": null,
      "outputs": [
        {
          "output_type": "stream",
          "text": [
            "whole_seq_output.shape   (2, 128, 8)\n",
            "final_memory_state.shape (2, 8)\n",
            "final_carry_state.shape  (2, 8)\n"
          ],
          "name": "stdout"
        }
      ]
    },
    {
      "cell_type": "markdown",
      "metadata": {
        "id": "8XV5jhz6QNHJ"
      },
      "source": [
        "# One-hot encoding"
      ]
    },
    {
      "cell_type": "code",
      "metadata": {
        "colab": {
          "base_uri": "https://localhost:8080/"
        },
        "id": "Zli4_KvWQSGy",
        "outputId": "ed37a51f-6187-4718-b3b7-3387c1264286"
      },
      "source": [
        "dictionary_lenth = len(index_to_char)\r\n",
        "one_hot_matrix = np.eye(dictionary_lenth)\r\n",
        "print('one_hot_matrix.shape=', one_hot_matrix.shape)\r\n",
        "\r\n",
        "def array_of_seq_to_one_hot(array_of_seq:np.array, matrix: np.array):\r\n",
        "  one_hot_seq = np.array(\r\n",
        "    [np.array([matrix[:,ind] for ind in seq]) for seq in array_of_seq]\r\n",
        "    )\r\n",
        "  return one_hot_seq\r\n",
        "\r\n",
        "def array_of_int_to_one_hot(array_of_int:np.array, matrix: np.array):\r\n",
        "  one_hot_seq = np.array(\r\n",
        "    np.array([matrix[:,ind] for ind in array_of_int])\r\n",
        "    )\r\n",
        "  return one_hot_seq\r\n",
        "\r\n",
        "one_hot_x = array_of_seq_to_one_hot(x,one_hot_matrix)\r\n",
        "one_hot_y = array_of_seq_to_one_hot(y,one_hot_matrix)\r\n",
        "\r\n",
        "one_hot_y_1 = array_of_int_to_one_hot(y_1,one_hot_matrix)\r\n",
        "\r\n",
        "print('one_hot_x.shape:', one_hot_x.shape, \"# (batch_size, sequence_length, vocab_size)\")\r\n",
        "print('one_hot_y.shape:', one_hot_y.shape)\r\n",
        "print('one_hot_y_1.shape:', one_hot_y_1.shape)"
      ],
      "execution_count": null,
      "outputs": [
        {
          "output_type": "stream",
          "text": [
            "one_hot_matrix.shape= (54, 54)\n",
            "one_hot_x.shape: (24303, 128, 54) # (batch_size, sequence_length, vocab_size)\n",
            "one_hot_y.shape: (24303, 128, 54)\n",
            "one_hot_y_1.shape: (24303, 54)\n"
          ],
          "name": "stdout"
        }
      ]
    },
    {
      "cell_type": "markdown",
      "metadata": {
        "id": "QYVhddmQPWhZ"
      },
      "source": [
        "# Text generator version 1, (LSTM with default setting )"
      ]
    },
    {
      "cell_type": "code",
      "metadata": {
        "id": "UbjNUxyLLWYu"
      },
      "source": [
        "text_generator_v1 = tf.keras.Sequential([\r\n",
        "    tf.keras.layers.LSTM(100),\r\n",
        "    tf.keras.layers.Dense(100),\r\n",
        "    tf.keras.layers.Dense(dictionary_lenth, activation=\"softmax\")\r\n",
        "])"
      ],
      "execution_count": null,
      "outputs": []
    },
    {
      "cell_type": "markdown",
      "metadata": {
        "id": "7mSNfM1QSeeG"
      },
      "source": [
        "Checking the model output shape:"
      ]
    },
    {
      "cell_type": "code",
      "metadata": {
        "colab": {
          "base_uri": "https://localhost:8080/"
        },
        "id": "8t-Y1FKPSweU",
        "outputId": "6ae53371-ca57-42db-befe-1138ce51a352"
      },
      "source": [
        "samlpe_input = one_hot_x[0:1]\r\n",
        "samlpe_output = text_generator_v1(samlpe_input)\r\n",
        "samlpe_output.shape"
      ],
      "execution_count": null,
      "outputs": [
        {
          "output_type": "execute_result",
          "data": {
            "text/plain": [
              "TensorShape([1, 54])"
            ]
          },
          "metadata": {
            "tags": []
          },
          "execution_count": 10
        }
      ]
    },
    {
      "cell_type": "code",
      "metadata": {
        "colab": {
          "base_uri": "https://localhost:8080/"
        },
        "id": "8pBqlUQtL3p_",
        "outputId": "e4642eff-096d-4b19-91a7-884bed884704"
      },
      "source": [
        "text_generator_v1.summary()"
      ],
      "execution_count": null,
      "outputs": [
        {
          "output_type": "stream",
          "text": [
            "Model: \"sequential\"\n",
            "_________________________________________________________________\n",
            "Layer (type)                 Output Shape              Param #   \n",
            "=================================================================\n",
            "lstm (LSTM)                  (1, 100)                  62000     \n",
            "_________________________________________________________________\n",
            "dense (Dense)                (1, 100)                  10100     \n",
            "_________________________________________________________________\n",
            "dense_1 (Dense)              (1, 54)                   5454      \n",
            "=================================================================\n",
            "Total params: 77,554\n",
            "Trainable params: 77,554\n",
            "Non-trainable params: 0\n",
            "_________________________________________________________________\n"
          ],
          "name": "stdout"
        }
      ]
    },
    {
      "cell_type": "code",
      "metadata": {
        "colab": {
          "base_uri": "https://localhost:8080/"
        },
        "id": "IoiOOjchSM0z",
        "outputId": "06dade66-d010-41af-9a98-30a27a119786"
      },
      "source": [
        "text_generator_v1.compile(optimizer='adam', loss=tf.losses.categorical_crossentropy)\r\n",
        "text_generator_v1.fit(x = one_hot_x, y = one_hot_y_1, epochs=12)"
      ],
      "execution_count": null,
      "outputs": [
        {
          "output_type": "stream",
          "text": [
            "Epoch 1/12\n",
            "760/760 [==============================] - 7s 7ms/step - loss: 2.6159\n",
            "Epoch 2/12\n",
            "760/760 [==============================] - 5s 7ms/step - loss: 0.8067\n",
            "Epoch 3/12\n",
            "760/760 [==============================] - 5s 7ms/step - loss: 0.5704\n",
            "Epoch 4/12\n",
            "760/760 [==============================] - 5s 7ms/step - loss: 0.4654\n",
            "Epoch 5/12\n",
            "760/760 [==============================] - 5s 7ms/step - loss: 0.4230\n",
            "Epoch 6/12\n",
            "760/760 [==============================] - 5s 7ms/step - loss: 0.4039\n",
            "Epoch 7/12\n",
            "760/760 [==============================] - 5s 7ms/step - loss: 0.3731\n",
            "Epoch 8/12\n",
            "760/760 [==============================] - 5s 7ms/step - loss: 0.3717\n",
            "Epoch 9/12\n",
            "760/760 [==============================] - 5s 7ms/step - loss: 0.3464\n",
            "Epoch 10/12\n",
            "760/760 [==============================] - 5s 7ms/step - loss: 0.3518\n",
            "Epoch 11/12\n",
            "760/760 [==============================] - 5s 7ms/step - loss: 0.3352\n",
            "Epoch 12/12\n",
            "760/760 [==============================] - 5s 7ms/step - loss: 0.3278\n"
          ],
          "name": "stdout"
        },
        {
          "output_type": "execute_result",
          "data": {
            "text/plain": [
              "<tensorflow.python.keras.callbacks.History at 0x7f22425ec8d0>"
            ]
          },
          "metadata": {
            "tags": []
          },
          "execution_count": 12
        }
      ]
    },
    {
      "cell_type": "markdown",
      "metadata": {
        "id": "565nldrjH-mb"
      },
      "source": [
        ""
      ]
    },
    {
      "cell_type": "code",
      "metadata": {
        "colab": {
          "base_uri": "https://localhost:8080/"
        },
        "id": "N59pcCEDH_Ei",
        "outputId": "cf474f99-2575-4f52-9d53-8e5da1758f38"
      },
      "source": [
        "start_text = 'Controller ready..'\r\n",
        "pred_lenth = 300\r\n",
        "\r\n",
        "# Convert start test to numbers\r\n",
        "encoded_start_text=text_to_numbers(char_to_index, start_text)\r\n",
        "\r\n",
        "gen_seq = encoded_start_text\r\n",
        "for _ in range(pred_lenth):\r\n",
        "  # print(gen_seq)\r\n",
        "  one_hot_gen_seq = np.array([array_of_int_to_one_hot(gen_seq, one_hot_matrix)])  \r\n",
        "  one_hot_pred = text_generator_v1(one_hot_gen_seq)  \r\n",
        "  pred_array = tf.squeeze(one_hot_pred).numpy()\r\n",
        "  \r\n",
        "  # greedy sampling!!!!\r\n",
        "  pred = np.array(np.argmax(pred_array), ndmin=1)\r\n",
        "  \r\n",
        "  # pred = [np.random.choice(dictionary_lenth, p=pred_array)]\r\n",
        "  \r\n",
        "  # print(pred)\r\n",
        "  gen_seq = np.append(gen_seq, pred)\r\n",
        "\r\n",
        "gen_text = numbers_to_text(index_to_char, gen_seq)\r\n",
        "print(gen_text)\r\n",
        "\r\n"
      ],
      "execution_count": null,
      "outputs": [
        {
          "output_type": "stream",
          "text": [
            "Controller ready...\n",
            "1000.46: Passenger_14: Arriving with destination floor: 1\n",
            "1000.46: Passenger_24: Passenger arriving at floor: 0\n",
            "1000.46: Passenger_24: Passenger arriving at floor: 0\n",
            "1000.46: Passenger_24: Passenger arriving at floor: 0\n",
            "1000.46: Passenger_24: Passenger arriving at floor: 0\n",
            "1000.46: Passenger_24: P\n"
          ],
          "name": "stdout"
        }
      ]
    },
    {
      "cell_type": "code",
      "metadata": {
        "id": "8KWH77tUXi8r"
      },
      "source": [
        ""
      ],
      "execution_count": null,
      "outputs": []
    },
    {
      "cell_type": "markdown",
      "metadata": {
        "id": "2SEldPKFXmQY"
      },
      "source": [
        "# Text generator version 2, (LSTM with  return_sequences=True) "
      ]
    },
    {
      "cell_type": "code",
      "metadata": {
        "id": "SZNq80UuX-gd"
      },
      "source": [
        "text_generator_v2 = tf.keras.Sequential([\r\n",
        "    tf.keras.layers.LSTM(100, return_sequences=True),\r\n",
        "    tf.keras.layers.Dense(100),\r\n",
        "    tf.keras.layers.Dense(dictionary_lenth, activation=\"softmax\")\r\n",
        "])"
      ],
      "execution_count": null,
      "outputs": []
    },
    {
      "cell_type": "markdown",
      "metadata": {
        "id": "jSbFuHYaYKnx"
      },
      "source": [
        "Checking the model output shape:"
      ]
    },
    {
      "cell_type": "code",
      "metadata": {
        "colab": {
          "base_uri": "https://localhost:8080/"
        },
        "id": "vLGIomXQYLIo",
        "outputId": "bf6ab46c-654d-499e-db4d-f1324b842f12"
      },
      "source": [
        "samlpe_input = one_hot_x[0:1]\r\n",
        "samlpe_output = text_generator_v2(samlpe_input)\r\n",
        "samlpe_output.shape"
      ],
      "execution_count": null,
      "outputs": [
        {
          "output_type": "execute_result",
          "data": {
            "text/plain": [
              "TensorShape([1, 128, 54])"
            ]
          },
          "metadata": {
            "tags": []
          },
          "execution_count": 9
        }
      ]
    },
    {
      "cell_type": "code",
      "metadata": {
        "colab": {
          "base_uri": "https://localhost:8080/"
        },
        "id": "pUHtWXCpYNfR",
        "outputId": "67b35853-8c6d-4cf2-8811-0b95ed55440c"
      },
      "source": [
        "text_generator_v2.compile(optimizer='adam', loss=tf.losses.categorical_crossentropy)\r\n",
        "text_generator_v2.fit(x = one_hot_x, y = one_hot_y, epochs=12)"
      ],
      "execution_count": null,
      "outputs": [
        {
          "output_type": "stream",
          "text": [
            "Epoch 1/12\n",
            "760/760 [==============================] - 10s 11ms/step - loss: 1.8652\n",
            "Epoch 2/12\n",
            "760/760 [==============================] - 8s 11ms/step - loss: 0.4025\n",
            "Epoch 3/12\n",
            "760/760 [==============================] - 8s 11ms/step - loss: 0.3483\n",
            "Epoch 4/12\n",
            "760/760 [==============================] - 8s 11ms/step - loss: 0.3204\n",
            "Epoch 5/12\n",
            "760/760 [==============================] - 8s 11ms/step - loss: 0.2998\n",
            "Epoch 6/12\n",
            "760/760 [==============================] - 8s 11ms/step - loss: 0.2812\n",
            "Epoch 7/12\n",
            "760/760 [==============================] - 8s 11ms/step - loss: 0.2629\n",
            "Epoch 8/12\n",
            "760/760 [==============================] - 8s 11ms/step - loss: 0.2417\n",
            "Epoch 9/12\n",
            "760/760 [==============================] - 8s 11ms/step - loss: 0.2258\n",
            "Epoch 10/12\n",
            "760/760 [==============================] - 8s 11ms/step - loss: 0.2095\n",
            "Epoch 11/12\n",
            "760/760 [==============================] - 8s 11ms/step - loss: 0.1940\n",
            "Epoch 12/12\n",
            "760/760 [==============================] - 8s 11ms/step - loss: 0.1813\n"
          ],
          "name": "stdout"
        },
        {
          "output_type": "execute_result",
          "data": {
            "text/plain": [
              "<tensorflow.python.keras.callbacks.History at 0x7fb68023e6d0>"
            ]
          },
          "metadata": {
            "tags": []
          },
          "execution_count": 10
        }
      ]
    },
    {
      "cell_type": "code",
      "metadata": {
        "colab": {
          "base_uri": "https://localhost:8080/"
        },
        "id": "zEcK7enBaChi",
        "outputId": "896b3287-409e-4a7a-dc9d-16ce95ee7cf2"
      },
      "source": [
        "start_text = 'Controller ready'\r\n",
        "encoded_start_text=text_to_numbers(char_to_index, start_text)\r\n",
        "one_hot_start_text = np.array([array_of_int_to_one_hot(encoded_start_text, one_hot_matrix)])\r\n",
        "one_hot_pred = text_generator_v2(one_hot_start_text)  \r\n",
        "pred_array = tf.squeeze(one_hot_pred).numpy()\r\n",
        "print('pred_array.shape',pred_array.shape)\r\n",
        "\r\n",
        "ids = [np.argmax(seq) for seq in pred_array]\r\n",
        "gen_text = numbers_to_text(index_to_char, ids)\r\n",
        "print(\"Generated text:\", gen_text)"
      ],
      "execution_count": null,
      "outputs": [
        {
          "output_type": "stream",
          "text": [
            "pred_array.shape (16, 54)\n",
            "Generated text: ontroller_ready.\n"
          ],
          "name": "stdout"
        }
      ]
    },
    {
      "cell_type": "code",
      "metadata": {
        "id": "ROgVD9c6HQip"
      },
      "source": [
        "last_ch_v2 = pred_array[-1]\r\n",
        "last_ch_v2"
      ],
      "execution_count": null,
      "outputs": []
    },
    {
      "cell_type": "code",
      "metadata": {
        "colab": {
          "base_uri": "https://localhost:8080/"
        },
        "id": "WA8TJKA_ZzH6",
        "outputId": "332dc7c0-183d-4a84-d6d2-19f52013b3cd"
      },
      "source": [
        "pred_lenth = 300\r\n",
        "\r\n",
        "# Convert start test to numbers\r\n",
        "encoded_start_text=text_to_numbers(char_to_index, start_text)\r\n",
        "\r\n",
        "gen_seq = encoded_start_text\r\n",
        "for _ in range(pred_lenth):\r\n",
        "  # print(gen_seq)\r\n",
        "  one_hot_gen_seq = np.array([array_of_int_to_one_hot(gen_seq, one_hot_matrix)])  \r\n",
        "  one_hot_pred = text_generator_v2(one_hot_gen_seq)  \r\n",
        "  pred_array = tf.squeeze(one_hot_pred).numpy()\r\n",
        "  \r\n",
        "  # greedy sampling!!!\r\n",
        "  ids = [np.argmax(seq) for seq in pred_array]\r\n",
        "  \r\n",
        "  # ids = [np.random.choice(dictionary_lenth, p=seq) for seq in pred_array]\r\n",
        "  pred = ids[-1]\r\n",
        "\r\n",
        "  gen_seq = np.append(gen_seq, pred)\r\n",
        "\r\n",
        "gen_text = numbers_to_text(index_to_char, gen_seq)\r\n",
        "print(gen_text)"
      ],
      "execution_count": null,
      "outputs": [
        {
          "output_type": "stream",
          "text": [
            "Controller ready...\n",
            "1396.46: Passenger_35: Not my destination floor\n",
            "1752.46: Passenger_31: Activity time 184.865058482379\n",
            "1380.46: Passenger_27: Leaving elevator\n",
            "1732.46: Passenger_35: Not my destination floor\n",
            "1714.46: Passenger_37: Not my destination floor\n",
            "1714.46: Passenger_37: Not my destination floor\n",
            "1714.46: P\n"
          ],
          "name": "stdout"
        }
      ]
    },
    {
      "cell_type": "markdown",
      "metadata": {
        "id": "V88EiOeO2OC1"
      },
      "source": [
        "# Can we use this text generator to build a GAN? "
      ]
    },
    {
      "cell_type": "markdown",
      "metadata": {
        "id": "fwr2i0KT6GDn"
      },
      "source": [
        "##  Obvious issues:\r\n",
        "1. At the output of the generator, we have the probability of the next character, so we have to choose the next character. \r\n",
        "2. To generate a sequence of 128 characters, you need to run the generator 128 times, only after that the resulting sequence can be passed to the discriminator."
      ]
    },
    {
      "cell_type": "markdown",
      "metadata": {
        "id": "ZSs0CDky2ngF"
      },
      "source": [
        "![GAN with text gen.png](data:image/png;base64,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)"
      ]
    },
    {
      "cell_type": "markdown",
      "metadata": {
        "id": "8jEBTh7S71AC"
      },
      "source": [
        "# Text generator version 3, (with Gumbel-Softmax layer)\r\n",
        "https://www.tensorflow.org/probability/api_docs/python/tfp/distributions/RelaxedOneHotCategorical\r\n",
        "\r\n",
        "The generator version 2 is used with RelaxedOneHotCategorical additional layer. "
      ]
    },
    {
      "cell_type": "code",
      "metadata": {
        "id": "Z_oPDiPJ2Zg7"
      },
      "source": [
        "class GumbelGenerator(tf.keras.Model):\r\n",
        "  def __init__(self, vocab_size, temperature):\r\n",
        "    super().__init__(self)\r\n",
        "    self.temperature = temperature \r\n",
        "    self.generator = tf.keras.Sequential([\r\n",
        "      tf.keras.layers.LSTM(units=100, return_sequences=True),\r\n",
        "      tf.keras.layers.Dense(100), \r\n",
        "      tf.keras.layers.Dense(vocab_size)   \r\n",
        "    ], name = 'GumbelGenerator' )\r\n",
        "\r\n",
        "  \r\n",
        "  \r\n",
        "  def call(self, inputs):\r\n",
        "    x = inputs\r\n",
        "    x = self.generator(x)\r\n",
        "    RelaxedOneHotCategorical = tfp.distributions.RelaxedOneHotCategorical(temperature=self.temperature, logits=x)\r\n",
        "    x = RelaxedOneHotCategorical.sample()\r\n",
        "    return x"
      ],
      "execution_count": null,
      "outputs": []
    },
    {
      "cell_type": "code",
      "metadata": {
        "id": "C0kzqL8T9rex"
      },
      "source": [
        "temperature = 0.5\r\n",
        "text_generator_v3 = GumbelGenerator(vocab_size = dictionary_lenth, temperature = temperature)"
      ],
      "execution_count": null,
      "outputs": []
    },
    {
      "cell_type": "code",
      "metadata": {
        "colab": {
          "base_uri": "https://localhost:8080/"
        },
        "id": "O5-b4t5q-Nz2",
        "outputId": "80246d76-e552-4f33-850f-7bff05d36529"
      },
      "source": [
        "# gen_v3_loss = tf.losses.categorical_crossentropy\r\n",
        "text_generator_v3.compile(optimizer='adam', loss=tf.losses.categorical_crossentropy)\r\n",
        "text_generator_v3.fit(x = one_hot_x, y = one_hot_y, epochs=6)\r\n",
        "\r\n",
        "text_generator_v3.temperature = 0.25\r\n",
        "text_generator_v3.fit(x = one_hot_x, y = one_hot_y, epochs=5)\r\n",
        "\r\n",
        "text_generator_v3.temperature = 0.1\r\n",
        "text_generator_v3.fit(x = one_hot_x, y = one_hot_y, epochs=4)\r\n",
        "\r\n",
        "text_generator_v3.temperature = 0.01\r\n",
        "text_generator_v3.fit(x = one_hot_x, y = one_hot_y, epochs=3)\r\n",
        "\r\n",
        "text_generator_v3.temperature = 0.001\r\n",
        "text_generator_v3.fit(x = one_hot_x, y = one_hot_y, epochs=2)"
      ],
      "execution_count": null,
      "outputs": [
        {
          "output_type": "stream",
          "text": [
            "Epoch 1/5\n",
            "760/760 [==============================] - 12s 11ms/step - loss: 4.1573\n",
            "Epoch 2/5\n",
            "760/760 [==============================] - 8s 11ms/step - loss: 1.0003\n",
            "Epoch 3/5\n",
            "760/760 [==============================] - 8s 11ms/step - loss: 0.8609\n",
            "Epoch 4/5\n",
            "760/760 [==============================] - 8s 11ms/step - loss: 0.7982\n",
            "Epoch 5/5\n",
            "760/760 [==============================] - 8s 11ms/step - loss: 0.7526\n",
            "Epoch 1/4\n",
            "760/760 [==============================] - 8s 11ms/step - loss: 0.7038\n",
            "Epoch 2/4\n",
            "760/760 [==============================] - 8s 11ms/step - loss: 0.6693\n",
            "Epoch 3/4\n",
            "760/760 [==============================] - 8s 11ms/step - loss: 0.6356\n",
            "Epoch 4/4\n",
            "760/760 [==============================] - 8s 11ms/step - loss: 0.6018\n",
            "Epoch 1/3\n",
            "760/760 [==============================] - 8s 11ms/step - loss: 0.5711\n",
            "Epoch 2/3\n",
            "760/760 [==============================] - 8s 11ms/step - loss: 0.5420\n",
            "Epoch 3/3\n",
            "760/760 [==============================] - 8s 11ms/step - loss: 0.5136\n",
            "Epoch 1/2\n",
            "760/760 [==============================] - 8s 11ms/step - loss: 0.4892\n",
            "Epoch 2/2\n",
            "760/760 [==============================] - 8s 11ms/step - loss: 0.4662\n",
            "Epoch 1/3\n",
            "760/760 [==============================] - 8s 11ms/step - loss: 0.4475\n",
            "Epoch 2/3\n",
            "760/760 [==============================] - 8s 11ms/step - loss: 0.4293\n",
            "Epoch 3/3\n",
            "760/760 [==============================] - 8s 11ms/step - loss: 0.4113\n"
          ],
          "name": "stdout"
        },
        {
          "output_type": "execute_result",
          "data": {
            "text/plain": [
              "<tensorflow.python.keras.callbacks.History at 0x7f46820127d0>"
            ]
          },
          "metadata": {
            "tags": []
          },
          "execution_count": 14
        }
      ]
    },
    {
      "cell_type": "code",
      "metadata": {
        "colab": {
          "base_uri": "https://localhost:8080/"
        },
        "id": "e6kZKRL9BrB-",
        "outputId": "812fad10-5145-4490-aad9-6dfcba2bda81"
      },
      "source": [
        "start_text = 'Controller ready'\r\n",
        "encoded_start_text=text_to_numbers(char_to_index, start_text)\r\n",
        "one_hot_start_text = np.array([array_of_int_to_one_hot(encoded_start_text, one_hot_matrix)])\r\n",
        "\r\n",
        "one_hot_pred = text_generator_v3(one_hot_start_text)  \r\n",
        "pred_array = tf.squeeze(one_hot_pred).numpy()\r\n",
        "print('pred_array.shape',pred_array.shape)\r\n",
        "\r\n",
        "ids = [np.argmax(seq) for seq in pred_array]\r\n",
        "gen_text = numbers_to_text(index_to_char, ids)\r\n",
        "print(\"Generated text:\", gen_text)"
      ],
      "execution_count": null,
      "outputs": [
        {
          "output_type": "stream",
          "text": [
            "pred_array.shape (16, 54)\n",
            "Generated text: ontroller_ready.\n"
          ],
          "name": "stdout"
        }
      ]
    },
    {
      "cell_type": "code",
      "metadata": {
        "colab": {
          "base_uri": "https://localhost:8080/"
        },
        "id": "r03uY040Gyfr",
        "outputId": "2a5b7018-b12a-4405-af35-860a21677f17"
      },
      "source": [
        "last_ch_v3 = pred_array[-1]\r\n",
        "last_ch_v3"
      ],
      "execution_count": null,
      "outputs": [
        {
          "output_type": "execute_result",
          "data": {
            "text/plain": [
              "array([0., 0., 0., 0., 0., 0., 0., 0., 0., 0., 0., 0., 0., 0., 0., 0., 0.,\n",
              "       0., 0., 0., 0., 0., 0., 0., 0., 0., 0., 0., 0., 0., 0., 0., 0., 0.,\n",
              "       0., 0., 0., 0., 0., 0., 0., 0., 0., 0., 0., 0., 0., 0., 1., 0., 0.,\n",
              "       0., 0., 0.], dtype=float32)"
            ]
          },
          "metadata": {
            "tags": []
          },
          "execution_count": 23
        }
      ]
    },
    {
      "cell_type": "code",
      "metadata": {
        "colab": {
          "base_uri": "https://localhost:8080/"
        },
        "id": "r1v3cQF-Hg09",
        "outputId": "9b89b62d-a6b6-408b-db62-81bdde3e949b"
      },
      "source": [
        "pred_lenth = 300\r\n",
        "\r\n",
        "# Convert start test to numbers\r\n",
        "encoded_start_text=text_to_numbers(char_to_index, start_text)\r\n",
        "\r\n",
        "gen_seq = encoded_start_text\r\n",
        "for _ in range(pred_lenth):\r\n",
        "  # print(gen_seq)\r\n",
        "  one_hot_gen_seq = np.array([array_of_int_to_one_hot(gen_seq, one_hot_matrix)])  \r\n",
        "  one_hot_pred = text_generator_v3(one_hot_gen_seq)  \r\n",
        "  pred_array = tf.squeeze(one_hot_pred).numpy()\r\n",
        "  \r\n",
        "  ids = [np.argmax(seq) for seq in pred_array]\r\n",
        "  # ids = [np.random.choice(dictionary_lenth, p=seq) for seq in pred_array]\r\n",
        "  pred = ids[-1]\r\n",
        "\r\n",
        "  gen_seq = np.append(gen_seq, pred)\r\n",
        "\r\n",
        "gen_text = numbers_to_text(index_to_char, gen_seq)\r\n",
        "print(gen_text)"
      ],
      "execution_count": null,
      "outputs": [
        {
          "output_type": "stream",
          "text": [
            "Controller ready...\n",
            "2139.43: Passenger_42: Activity time 81.227260372436\n",
            "2736.48: Controller_0: Closing doors\n",
            "2239.58: Controller_0: Checont eler_0: Picondl\n",
            "757.46: Controller_0: Closing doors\n",
            "700.26: Controller_0: Elevator departing to floor floor 6\n",
            "1574.46: Controller_0: Current elevator floor: 5\n",
            "1506.46: Control\n"
          ],
          "name": "stdout"
        }
      ]
    },
    {
      "cell_type": "markdown",
      "metadata": {
        "id": "GLhq9x3KJQ5s"
      },
      "source": [
        "But to create a new sequence, we still need to run the generator many times."
      ]
    },
    {
      "cell_type": "code",
      "metadata": {
        "id": "mDLDXPWuJhLh"
      },
      "source": [
        ""
      ],
      "execution_count": null,
      "outputs": []
    }
  ]
}