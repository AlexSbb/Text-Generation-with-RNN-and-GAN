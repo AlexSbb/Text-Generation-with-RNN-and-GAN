{
  "nbformat": 4,
  "nbformat_minor": 0,
  "metadata": {
    "colab": {
      "name": "LSTM Text Generator.ipynb",
      "provenance": [],
      "collapsed_sections": [],
      "toc_visible": true,
      "mount_file_id": "1ted1DR7HLoIGntLLePQqHu2gK-AEx0Tq",
      "authorship_tag": "ABX9TyN6v1sed16T9v8qwjf85uD3",
      "include_colab_link": true
    },
    "kernelspec": {
      "name": "python3",
      "display_name": "Python 3"
    },
    "accelerator": "GPU"
  },
  "cells": [
    {
      "cell_type": "markdown",
      "metadata": {
        "id": "view-in-github",
        "colab_type": "text"
      },
      "source": [
        "<a href=\"https://colab.research.google.com/github/AlexSbb/Text-Generation-with-RNN-and-GAN/blob/main/CS13ColabNotebooks/LSTM_Text_Generator.ipynb\" target=\"_parent\"><img src=\"https://colab.research.google.com/assets/colab-badge.svg\" alt=\"Open In Colab\"/></a>"
      ]
    },
    {
      "cell_type": "markdown",
      "metadata": {
        "id": "Vtx-egydOGoG"
      },
      "source": [
        "Import all necessary libraries:"
      ]
    },
    {
      "cell_type": "code",
      "metadata": {
        "colab": {
          "base_uri": "https://localhost:8080/"
        },
        "id": "KoK2MxRDLkou",
        "outputId": "70447ac3-475a-4280-ba15-93bc3a931ad1"
      },
      "source": [
        "import numpy as np\r\n",
        "import tensorflow as tf\r\n",
        "import tensorflow_probability as tfp\r\n",
        "import time\r\n",
        "import math\r\n",
        "import random\r\n",
        "print('TensorFlow version (should be 2.4.1):  ',tf.__version__)"
      ],
      "execution_count": 2,
      "outputs": [
        {
          "output_type": "stream",
          "text": [
            "TensorFlow version (should be 2.4.1):   2.4.1\n"
          ],
          "name": "stdout"
        }
      ]
    },
    {
      "cell_type": "markdown",
      "metadata": {
        "id": "RPppKMxkOuIw"
      },
      "source": [
        "# Open, read and process the text file\r\n",
        "In our case the we use the log file from an Elevator Group Control System simulation - \"ElevatorLogFile.txt\""
      ]
    },
    {
      "cell_type": "code",
      "metadata": {
        "colab": {
          "base_uri": "https://localhost:8080/"
        },
        "id": "IHi_SsjgOkGR",
        "outputId": "949e86ab-b099-4fbc-bc09-c91d8d9738be"
      },
      "source": [
        "PATH_TO_FILE = \"/content/drive/MyDrive/Colab Notebooks/CS13ColabNotebooks/ElevatorLogFile.txt\"\r\n",
        "\r\n",
        "# Open and read the whole txt file\r\n",
        "def open_and_read_test_file (path :str):\r\n",
        "    with open(path) as text_file:\r\n",
        "        text = text_file.read()\r\n",
        "    print('Number of characters in the log file:', len(text))\r\n",
        "    print('Number of words in the log file (with whitespace as a splitter):', len(text.split()))\r\n",
        "    return text\r\n",
        "\r\n",
        "file_text = open_and_read_test_file(PATH_TO_FILE)"
      ],
      "execution_count": 3,
      "outputs": [
        {
          "output_type": "stream",
          "text": [
            "Number of characters in the log file: 73037\n",
            "Number of words in the log file (with whitespace as a splitter): 9010\n"
          ],
          "name": "stdout"
        }
      ]
    },
    {
      "cell_type": "markdown",
      "metadata": {
        "id": "FDu1Fqi2Y5d5"
      },
      "source": [
        "Creating a dictionary from a text file. \r\n",
        "We will use a character-level dictionary. To do this, you need to count the number of unique characters in the text file. Each character is then assigned a unique sequence number. As a result, we will get two dictionaries, one for converting characters to numbers, and the second for reverse conversion."
      ]
    },
    {
      "cell_type": "code",
      "metadata": {
        "colab": {
          "base_uri": "https://localhost:8080/"
        },
        "id": "LAASttqCZk-F",
        "outputId": "095ba1c5-10bd-4d95-8de5-8b43d3e762c8"
      },
      "source": [
        "def dictionary_from_text(text:str):\r\n",
        "  set_of_uniq_ch = set(text) # set of uniq characters from text\r\n",
        "  print('Number of uniq characters in the log file:', len(set_of_uniq_ch))\r\n",
        "  char_to_index = {char:index for index, char in enumerate(set_of_uniq_ch)}\r\n",
        "  index_to_char = {index:char for char,index in char_to_index.items()}\r\n",
        "  return char_to_index, index_to_char\r\n",
        "\r\n",
        "char_to_index, index_to_char =  dictionary_from_text(file_text)"
      ],
      "execution_count": 4,
      "outputs": [
        {
          "output_type": "stream",
          "text": [
            "Number of uniq characters in the log file: 54\n"
          ],
          "name": "stdout"
        }
      ]
    },
    {
      "cell_type": "markdown",
      "metadata": {
        "id": "S_qiB1ynb6cw"
      },
      "source": [
        "In order to make it convenient to use dictionaries, I will create two auxiliary functions, for converting text to numbers and for reverse conversion."
      ]
    },
    {
      "cell_type": "code",
      "metadata": {
        "id": "Efsc1wT_awSH"
      },
      "source": [
        "def text_to_numbers(dictionary: dict, text: str):\r\n",
        "  numbers = [dictionary[char] for char in text]\r\n",
        "  return numbers\r\n",
        "\r\n",
        "def numbers_to_text(dictionary: dict, numbers: list):\r\n",
        "  text =\"\"\r\n",
        "  for num in numbers:\r\n",
        "    # text += str(dictionary[num])\r\n",
        "    text += dictionary[num]\r\n",
        "  return text"
      ],
      "execution_count": 5,
      "outputs": []
    },
    {
      "cell_type": "markdown",
      "metadata": {
        "id": "zGiZZKUMcg3o"
      },
      "source": [
        "Now we can easily convert our entire text file to numbers"
      ]
    },
    {
      "cell_type": "code",
      "metadata": {
        "colab": {
          "base_uri": "https://localhost:8080/"
        },
        "id": "MfbEQXw9crGj",
        "outputId": "6d01b0fb-c071-471b-e758-926214bdee99"
      },
      "source": [
        "whole_text_as_numbers = text_to_numbers(char_to_index, file_text)\r\n",
        "\r\n",
        "# Test:\r\n",
        "first_64_numbers = whole_text_as_numbers[0:64]\r\n",
        "print(\"First 64 numberst from 'whole_text_as_numbers':\")\r\n",
        "print(first_64_numbers)\r\n",
        "# test reverse conversion\r\n",
        "reverse_conversion = numbers_to_text(index_to_char, first_64_numbers)\r\n",
        "print(\"Conversin from numbers to text:\")\r\n",
        "print(reverse_conversion)"
      ],
      "execution_count": 6,
      "outputs": [
        {
          "output_type": "stream",
          "text": [
            "First 64 numberst from 'whole_text_as_numbers':\n",
            "[28, 8, 35, 5, 12, 30, 14, 17, 12, 49, 49, 29, 17, 22, 28, 8, 35, 5, 12, 30, 14, 17, 12, 49, 49, 29, 17, 35, 17, 29, 41, 51, 39, 2, 2, 2, 0, 24, 8, 35, 52, 41, 42, 42, 29, 30, 48, 29, 17, 22, 28, 8, 35, 9, 29, 30, 29, 17, 41, 14, 7, 30, 48, 35]\n",
            "Conversin from numbers to text:\n",
            "0: Controller_0: Controller ready...\n",
            "1: Passenger_0: Generating \n"
          ],
          "name": "stdout"
        }
      ]
    },
    {
      "cell_type": "markdown",
      "metadata": {
        "id": "nVWU16K_4oXn"
      },
      "source": [
        "To create a text generator, there are two ways to divide a sequence into x (input) and y(output, labels):\r\n",
        "![Split_seq.png](data:image/png;base64,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)\r\n"
      ]
    },
    {
      "cell_type": "code",
      "metadata": {
        "colab": {
          "base_uri": "https://localhost:8080/"
        },
        "id": "s9d03vFk54Yg",
        "outputId": "a261672a-7866-4706-a20f-76780c26cd78"
      },
      "source": [
        "#Split the input sequence into x and y, where x and y have the same shape\r\n",
        "def split_to_x_y(sequence: list, x_length: int = 128, step: int = 3):\r\n",
        "    x = []\r\n",
        "    y = []\r\n",
        "    for i in range(0, len(sequence) - x_length, step):\r\n",
        "        x.append(np.array(sequence[i: i + x_length]) )\r\n",
        "        y.append(np.array(sequence[i+1:i+1 + x_length]))\r\n",
        "    print(\"Number of sequences:\", len(x))\r\n",
        "    x = np.array(x)\r\n",
        "    y = np.array(y)   \r\n",
        "    print('x.shape=', x.shape)\r\n",
        "    print('y.shape=', y.shape)\r\n",
        "    return x , y\r\n",
        "\r\n",
        "# Left one last element in a sequence\r\n",
        "def take_last_element(original_y: np.array):\r\n",
        "  y_1 = [y[-1] for y in original_y]\r\n",
        "  y_1 = np.array(y_1) \r\n",
        "  print('y_1.shape=', y_1.shape)\r\n",
        "  return y_1\r\n",
        "\r\n",
        "x, y = split_to_x_y(whole_text_as_numbers, x_length = 128, step = 3)\r\n",
        "y_1 = take_last_element(y)"
      ],
      "execution_count": 7,
      "outputs": [
        {
          "output_type": "stream",
          "text": [
            "Number of sequences: 24303\n",
            "x.shape= (24303, 128)\n",
            "y.shape= (24303, 128)\n",
            "y_1.shape= (24303,)\n"
          ],
          "name": "stdout"
        }
      ]
    },
    {
      "cell_type": "markdown",
      "metadata": {
        "id": "T7QfdtamJXjW"
      },
      "source": [
        "# Important note about  the LSTM layer"
      ]
    },
    {
      "cell_type": "code",
      "metadata": {
        "id": "zXwGsS2mJjwO",
        "colab": {
          "base_uri": "https://localhost:8080/"
        },
        "outputId": "48d76a4e-a596-4206-f3f4-549500518e27"
      },
      "source": [
        "input = tf.random.normal(shape=(2,128,54))\r\n",
        "input.shape"
      ],
      "execution_count": null,
      "outputs": [
        {
          "output_type": "execute_result",
          "data": {
            "text/plain": [
              "TensorShape([2, 128, 54])"
            ]
          },
          "metadata": {
            "tags": []
          },
          "execution_count": 7
        }
      ]
    },
    {
      "cell_type": "code",
      "metadata": {
        "colab": {
          "base_uri": "https://localhost:8080/"
        },
        "id": "n4hryKTiLNHA",
        "outputId": "c5be41e2-476e-41dc-fa37-8df0908ba606"
      },
      "source": [
        "lstm_v1 = tf.keras.layers.LSTM(8)\r\n",
        "output = lstm_v1(input)\r\n",
        "output.shape"
      ],
      "execution_count": null,
      "outputs": [
        {
          "output_type": "execute_result",
          "data": {
            "text/plain": [
              "TensorShape([2, 8])"
            ]
          },
          "metadata": {
            "tags": []
          },
          "execution_count": 8
        }
      ]
    },
    {
      "cell_type": "code",
      "metadata": {
        "colab": {
          "base_uri": "https://localhost:8080/"
        },
        "id": "WD5N8ZYcLQNO",
        "outputId": "a8b6c0da-3b82-4d24-c9d8-8013e8c62df0"
      },
      "source": [
        "lstm_v2 = tf.keras.layers.LSTM(8,return_sequences=True)\r\n",
        "whole_seq_output = lstm_v2(input)\r\n",
        "print(\"whole_seq_output.shape\", whole_seq_output.shape)"
      ],
      "execution_count": null,
      "outputs": [
        {
          "output_type": "stream",
          "text": [
            "whole_seq_output.shape (2, 128, 8)\n"
          ],
          "name": "stdout"
        }
      ]
    },
    {
      "cell_type": "code",
      "metadata": {
        "colab": {
          "base_uri": "https://localhost:8080/"
        },
        "id": "wgd-1-yLLTVO",
        "outputId": "28617d8c-969c-469a-beb0-62d7e92102d1"
      },
      "source": [
        "lstm_v3 = tf.keras.layers.LSTM(8,return_sequences=True, return_state=True)\r\n",
        "whole_seq_output, final_memory_state, final_carry_state = lstm_v3(input)\r\n",
        "print(\"whole_seq_output.shape  \",    whole_seq_output.shape)\r\n",
        "print(\"final_memory_state.shape\",  final_memory_state.shape)\r\n",
        "print(\"final_carry_state.shape \",   final_carry_state.shape)"
      ],
      "execution_count": null,
      "outputs": [
        {
          "output_type": "stream",
          "text": [
            "whole_seq_output.shape   (2, 128, 8)\n",
            "final_memory_state.shape (2, 8)\n",
            "final_carry_state.shape  (2, 8)\n"
          ],
          "name": "stdout"
        }
      ]
    },
    {
      "cell_type": "markdown",
      "metadata": {
        "id": "8XV5jhz6QNHJ"
      },
      "source": [
        "# One-hot encoding"
      ]
    },
    {
      "cell_type": "code",
      "metadata": {
        "colab": {
          "base_uri": "https://localhost:8080/"
        },
        "id": "Zli4_KvWQSGy",
        "outputId": "388cff36-1b2e-4f95-a90a-885429bd978b"
      },
      "source": [
        "dictionary_lenth = len(index_to_char)\r\n",
        "one_hot_matrix = np.eye(dictionary_lenth)\r\n",
        "print('one_hot_matrix.shape=', one_hot_matrix.shape)\r\n",
        "\r\n",
        "def array_of_seq_to_one_hot(array_of_seq:np.array, matrix: np.array):\r\n",
        "  one_hot_seq = np.array(\r\n",
        "    [np.array([matrix[:,ind] for ind in seq]) for seq in array_of_seq]\r\n",
        "    )\r\n",
        "  return one_hot_seq\r\n",
        "\r\n",
        "def array_of_int_to_one_hot(array_of_int:np.array, matrix: np.array):\r\n",
        "  one_hot_seq = np.array(\r\n",
        "    np.array([matrix[:,ind] for ind in array_of_int])\r\n",
        "    )\r\n",
        "  return one_hot_seq\r\n",
        "\r\n",
        "one_hot_x = array_of_seq_to_one_hot(x,one_hot_matrix)\r\n",
        "one_hot_y = array_of_seq_to_one_hot(y,one_hot_matrix)\r\n",
        "\r\n",
        "one_hot_y_1 = array_of_int_to_one_hot(y_1,one_hot_matrix)\r\n",
        "\r\n",
        "print('one_hot_x.shape:', one_hot_x.shape, \"# (batch_size, sequence_length, vocab_size)\")\r\n",
        "print('one_hot_y.shape:', one_hot_y.shape)\r\n",
        "print('one_hot_y_1.shape:', one_hot_y_1.shape)"
      ],
      "execution_count": 8,
      "outputs": [
        {
          "output_type": "stream",
          "text": [
            "one_hot_matrix.shape= (54, 54)\n",
            "one_hot_x.shape: (24303, 128, 54) # (batch_size, sequence_length, vocab_size)\n",
            "one_hot_y.shape: (24303, 128, 54)\n",
            "one_hot_y_1.shape: (24303, 54)\n"
          ],
          "name": "stdout"
        }
      ]
    },
    {
      "cell_type": "markdown",
      "metadata": {
        "id": "QYVhddmQPWhZ"
      },
      "source": [
        "# Text generator version 1, (LSTM with default setting )"
      ]
    },
    {
      "cell_type": "code",
      "metadata": {
        "id": "UbjNUxyLLWYu"
      },
      "source": [
        "text_generator_v1 = tf.keras.Sequential([\r\n",
        "    tf.keras.layers.LSTM(100),\r\n",
        "    tf.keras.layers.Dense(100),\r\n",
        "    tf.keras.layers.Dense(dictionary_lenth, activation=\"softmax\")\r\n",
        "])"
      ],
      "execution_count": 9,
      "outputs": []
    },
    {
      "cell_type": "markdown",
      "metadata": {
        "id": "7mSNfM1QSeeG"
      },
      "source": [
        "Checking the model output shape:"
      ]
    },
    {
      "cell_type": "code",
      "metadata": {
        "colab": {
          "base_uri": "https://localhost:8080/"
        },
        "id": "8t-Y1FKPSweU",
        "outputId": "6ae53371-ca57-42db-befe-1138ce51a352"
      },
      "source": [
        "samlpe_input = one_hot_x[0:1]\r\n",
        "samlpe_output = text_generator_v1(samlpe_input)\r\n",
        "samlpe_output.shape"
      ],
      "execution_count": 10,
      "outputs": [
        {
          "output_type": "execute_result",
          "data": {
            "text/plain": [
              "TensorShape([1, 54])"
            ]
          },
          "metadata": {
            "tags": []
          },
          "execution_count": 10
        }
      ]
    },
    {
      "cell_type": "code",
      "metadata": {
        "colab": {
          "base_uri": "https://localhost:8080/"
        },
        "id": "8pBqlUQtL3p_",
        "outputId": "e4642eff-096d-4b19-91a7-884bed884704"
      },
      "source": [
        "text_generator_v1.summary()"
      ],
      "execution_count": 11,
      "outputs": [
        {
          "output_type": "stream",
          "text": [
            "Model: \"sequential\"\n",
            "_________________________________________________________________\n",
            "Layer (type)                 Output Shape              Param #   \n",
            "=================================================================\n",
            "lstm (LSTM)                  (1, 100)                  62000     \n",
            "_________________________________________________________________\n",
            "dense (Dense)                (1, 100)                  10100     \n",
            "_________________________________________________________________\n",
            "dense_1 (Dense)              (1, 54)                   5454      \n",
            "=================================================================\n",
            "Total params: 77,554\n",
            "Trainable params: 77,554\n",
            "Non-trainable params: 0\n",
            "_________________________________________________________________\n"
          ],
          "name": "stdout"
        }
      ]
    },
    {
      "cell_type": "code",
      "metadata": {
        "colab": {
          "base_uri": "https://localhost:8080/"
        },
        "id": "IoiOOjchSM0z",
        "outputId": "06dade66-d010-41af-9a98-30a27a119786"
      },
      "source": [
        "text_generator_v1.compile(optimizer='adam', loss=tf.losses.categorical_crossentropy)\r\n",
        "text_generator_v1.fit(x = one_hot_x, y = one_hot_y_1, epochs=12)"
      ],
      "execution_count": 12,
      "outputs": [
        {
          "output_type": "stream",
          "text": [
            "Epoch 1/12\n",
            "760/760 [==============================] - 7s 7ms/step - loss: 2.6159\n",
            "Epoch 2/12\n",
            "760/760 [==============================] - 5s 7ms/step - loss: 0.8067\n",
            "Epoch 3/12\n",
            "760/760 [==============================] - 5s 7ms/step - loss: 0.5704\n",
            "Epoch 4/12\n",
            "760/760 [==============================] - 5s 7ms/step - loss: 0.4654\n",
            "Epoch 5/12\n",
            "760/760 [==============================] - 5s 7ms/step - loss: 0.4230\n",
            "Epoch 6/12\n",
            "760/760 [==============================] - 5s 7ms/step - loss: 0.4039\n",
            "Epoch 7/12\n",
            "760/760 [==============================] - 5s 7ms/step - loss: 0.3731\n",
            "Epoch 8/12\n",
            "760/760 [==============================] - 5s 7ms/step - loss: 0.3717\n",
            "Epoch 9/12\n",
            "760/760 [==============================] - 5s 7ms/step - loss: 0.3464\n",
            "Epoch 10/12\n",
            "760/760 [==============================] - 5s 7ms/step - loss: 0.3518\n",
            "Epoch 11/12\n",
            "760/760 [==============================] - 5s 7ms/step - loss: 0.3352\n",
            "Epoch 12/12\n",
            "760/760 [==============================] - 5s 7ms/step - loss: 0.3278\n"
          ],
          "name": "stdout"
        },
        {
          "output_type": "execute_result",
          "data": {
            "text/plain": [
              "<tensorflow.python.keras.callbacks.History at 0x7f22425ec8d0>"
            ]
          },
          "metadata": {
            "tags": []
          },
          "execution_count": 12
        }
      ]
    },
    {
      "cell_type": "markdown",
      "metadata": {
        "id": "565nldrjH-mb"
      },
      "source": [
        ""
      ]
    },
    {
      "cell_type": "code",
      "metadata": {
        "colab": {
          "base_uri": "https://localhost:8080/"
        },
        "id": "N59pcCEDH_Ei",
        "outputId": "cf474f99-2575-4f52-9d53-8e5da1758f38"
      },
      "source": [
        "start_text = 'Controller ready..'\r\n",
        "pred_lenth = 300\r\n",
        "\r\n",
        "# Convert start test to numbers\r\n",
        "encoded_start_text=text_to_numbers(char_to_index, start_text)\r\n",
        "\r\n",
        "gen_seq = encoded_start_text\r\n",
        "for _ in range(pred_lenth):\r\n",
        "  # print(gen_seq)\r\n",
        "  one_hot_gen_seq = np.array([array_of_int_to_one_hot(gen_seq, one_hot_matrix)])  \r\n",
        "  one_hot_pred = text_generator_v1(one_hot_gen_seq)  \r\n",
        "  pred_array = tf.squeeze(one_hot_pred).numpy()\r\n",
        "  \r\n",
        "  pred = np.array(np.argmax(pred_array), ndmin=1)\r\n",
        "  # pred = [np.random.choice(dictionary_lenth, p=pred_array)]\r\n",
        "  \r\n",
        "  # print(pred)\r\n",
        "  gen_seq = np.append(gen_seq, pred)\r\n",
        "\r\n",
        "gen_text = numbers_to_text(index_to_char, gen_seq)\r\n",
        "print(gen_text)\r\n",
        "\r\n"
      ],
      "execution_count": 31,
      "outputs": [
        {
          "output_type": "stream",
          "text": [
            "Controller ready...\n",
            "1000.46: Passenger_14: Arriving with destination floor: 1\n",
            "1000.46: Passenger_24: Passenger arriving at floor: 0\n",
            "1000.46: Passenger_24: Passenger arriving at floor: 0\n",
            "1000.46: Passenger_24: Passenger arriving at floor: 0\n",
            "1000.46: Passenger_24: Passenger arriving at floor: 0\n",
            "1000.46: Passenger_24: P\n"
          ],
          "name": "stdout"
        }
      ]
    },
    {
      "cell_type": "code",
      "metadata": {
        "id": "8KWH77tUXi8r"
      },
      "source": [
        ""
      ],
      "execution_count": null,
      "outputs": []
    },
    {
      "cell_type": "markdown",
      "metadata": {
        "id": "2SEldPKFXmQY"
      },
      "source": [
        "# Text generator version 2, (LSTM with  return_sequences=True) "
      ]
    },
    {
      "cell_type": "code",
      "metadata": {
        "id": "SZNq80UuX-gd"
      },
      "source": [
        "text_generator_v2 = tf.keras.Sequential([\r\n",
        "    tf.keras.layers.LSTM(100, return_sequences=True),\r\n",
        "    tf.keras.layers.Dense(100),\r\n",
        "    tf.keras.layers.Dense(dictionary_lenth, activation=\"softmax\")\r\n",
        "])"
      ],
      "execution_count": 20,
      "outputs": []
    },
    {
      "cell_type": "markdown",
      "metadata": {
        "id": "jSbFuHYaYKnx"
      },
      "source": [
        "Checking the model output shape:"
      ]
    },
    {
      "cell_type": "code",
      "metadata": {
        "colab": {
          "base_uri": "https://localhost:8080/"
        },
        "id": "vLGIomXQYLIo",
        "outputId": "1bbd7c3f-9787-4028-d937-3f6ea734a249"
      },
      "source": [
        "samlpe_input = one_hot_x[0:1]\r\n",
        "samlpe_output = text_generator_v2(samlpe_input)\r\n",
        "samlpe_output.shape"
      ],
      "execution_count": 21,
      "outputs": [
        {
          "output_type": "execute_result",
          "data": {
            "text/plain": [
              "TensorShape([1, 128, 54])"
            ]
          },
          "metadata": {
            "tags": []
          },
          "execution_count": 21
        }
      ]
    },
    {
      "cell_type": "code",
      "metadata": {
        "colab": {
          "base_uri": "https://localhost:8080/"
        },
        "id": "pUHtWXCpYNfR",
        "outputId": "5c47d60c-af39-4cdd-f45c-8e8417d708bf"
      },
      "source": [
        "text_generator_v2.compile(optimizer='adam', loss=tf.losses.categorical_crossentropy)\r\n",
        "text_generator_v2.fit(x = one_hot_x, y = one_hot_y, epochs=12)"
      ],
      "execution_count": 22,
      "outputs": [
        {
          "output_type": "stream",
          "text": [
            "Epoch 1/12\n",
            "760/760 [==============================] - 8s 8ms/step - loss: 1.8479\n",
            "Epoch 2/12\n",
            "760/760 [==============================] - 6s 8ms/step - loss: 0.4027\n",
            "Epoch 3/12\n",
            "760/760 [==============================] - 6s 8ms/step - loss: 0.3480\n",
            "Epoch 4/12\n",
            "760/760 [==============================] - 6s 8ms/step - loss: 0.3200\n",
            "Epoch 5/12\n",
            "760/760 [==============================] - 6s 8ms/step - loss: 0.2971\n",
            "Epoch 6/12\n",
            "760/760 [==============================] - 6s 8ms/step - loss: 0.2764\n",
            "Epoch 7/12\n",
            "760/760 [==============================] - 6s 8ms/step - loss: 0.2574\n",
            "Epoch 8/12\n",
            "760/760 [==============================] - 6s 8ms/step - loss: 0.2391\n",
            "Epoch 9/12\n",
            "760/760 [==============================] - 6s 8ms/step - loss: 0.2214\n",
            "Epoch 10/12\n",
            "760/760 [==============================] - 6s 8ms/step - loss: 0.2055\n",
            "Epoch 11/12\n",
            "760/760 [==============================] - 6s 8ms/step - loss: 0.1915\n",
            "Epoch 12/12\n",
            "760/760 [==============================] - 6s 8ms/step - loss: 0.1791\n"
          ],
          "name": "stdout"
        },
        {
          "output_type": "execute_result",
          "data": {
            "text/plain": [
              "<tensorflow.python.keras.callbacks.History at 0x7f21e004ae10>"
            ]
          },
          "metadata": {
            "tags": []
          },
          "execution_count": 22
        }
      ]
    },
    {
      "cell_type": "code",
      "metadata": {
        "colab": {
          "base_uri": "https://localhost:8080/"
        },
        "id": "zEcK7enBaChi",
        "outputId": "3815d1e0-e722-4bf4-8983-2cc45f1ace90"
      },
      "source": [
        "start_text = 'Controller ready'\r\n",
        "encoded_start_text=text_to_numbers(char_to_index, start_text)\r\n",
        "one_hot_start_text = np.array([array_of_int_to_one_hot(encoded_start_text, one_hot_matrix)])\r\n",
        "one_hot_pred = text_generator_v2(one_hot_start_text)  \r\n",
        "pred_array = tf.squeeze(one_hot_pred).numpy()\r\n",
        "print('pred_array.shape',pred_array.shape)\r\n",
        "\r\n",
        "ids = [np.argmax(seq) for seq in pred_array]\r\n",
        "gen_text = numbers_to_text(index_to_char, ids)\r\n",
        "print(gen_text)"
      ],
      "execution_count": 30,
      "outputs": [
        {
          "output_type": "stream",
          "text": [
            "ontroller_ready.\n"
          ],
          "name": "stdout"
        }
      ]
    },
    {
      "cell_type": "code",
      "metadata": {
        "colab": {
          "base_uri": "https://localhost:8080/"
        },
        "id": "WA8TJKA_ZzH6",
        "outputId": "c076cc30-f7ad-493d-a2da-64d76b76d29e"
      },
      "source": [
        "pred_lenth = 300\r\n",
        "\r\n",
        "# Convert start test to numbers\r\n",
        "encoded_start_text=text_to_numbers(char_to_index, start_text)\r\n",
        "\r\n",
        "gen_seq = encoded_start_text\r\n",
        "for _ in range(pred_lenth):\r\n",
        "  # print(gen_seq)\r\n",
        "  one_hot_gen_seq = np.array([array_of_int_to_one_hot(gen_seq, one_hot_matrix)])  \r\n",
        "  one_hot_pred = text_generator_v2(one_hot_gen_seq)  \r\n",
        "  pred_array = tf.squeeze(one_hot_pred).numpy()\r\n",
        "  \r\n",
        "  ids = [np.argmax(seq) for seq in pred_array]\r\n",
        "  # ids = [np.random.choice(dictionary_lenth, p=seq) for seq in pred_array]\r\n",
        "  pred = ids[-1]\r\n",
        "\r\n",
        "  gen_seq = np.append(gen_seq, pred)\r\n",
        "\r\n",
        "gen_text = numbers_to_text(index_to_char, gen_seq)\r\n",
        "print(gen_text)"
      ],
      "execution_count": 38,
      "outputs": [
        {
          "output_type": "stream",
          "text": [
            "Controller ready...\n",
            "1866.46: Passenger_38: Activity time 164.002611267415\n",
            "1812.46: Passenger_28: Leaving elevator\n",
            "1823.46: Controller_0: Closing doors\n",
            "1820.46: Controller_0: Elevator departing to floor number (to destination): 11\n",
            "1820.46: Controller_0: Current elevator floor: 2\n",
            "1280.46: Controller_0: Current elevator\n"
          ],
          "name": "stdout"
        }
      ]
    }
  ]
}