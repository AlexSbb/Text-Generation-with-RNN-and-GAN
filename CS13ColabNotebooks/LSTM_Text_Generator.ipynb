{
  "nbformat": 4,
  "nbformat_minor": 0,
  "metadata": {
    "colab": {
      "name": "LSTM Text Generator.ipynb",
      "provenance": [],
      "collapsed_sections": [],
      "toc_visible": true,
      "mount_file_id": "1ted1DR7HLoIGntLLePQqHu2gK-AEx0Tq",
      "authorship_tag": "ABX9TyMYOqkpVv5jKlkYiGJqCXaX",
      "include_colab_link": true
    },
    "kernelspec": {
      "name": "python3",
      "display_name": "Python 3"
    },
    "accelerator": "GPU"
  },
  "cells": [
    {
      "cell_type": "markdown",
      "metadata": {
        "id": "view-in-github",
        "colab_type": "text"
      },
      "source": [
        "<a href=\"https://colab.research.google.com/github/AlexSbb/Text-Generation-with-RNN-and-GAN/blob/main/CS13ColabNotebooks/LSTM_Text_Generator.ipynb\" target=\"_parent\"><img src=\"https://colab.research.google.com/assets/colab-badge.svg\" alt=\"Open In Colab\"/></a>"
      ]
    },
    {
      "cell_type": "markdown",
      "metadata": {
        "id": "Vtx-egydOGoG"
      },
      "source": [
        "Import all necessary libraries:"
      ]
    },
    {
      "cell_type": "code",
      "metadata": {
        "colab": {
          "base_uri": "https://localhost:8080/"
        },
        "id": "KoK2MxRDLkou",
        "outputId": "00a3fc80-5ff8-42c4-b7d7-e71ba1d096e8"
      },
      "source": [
        "import numpy as np\r\n",
        "import tensorflow as tf\r\n",
        "import tensorflow_probability as tfp\r\n",
        "import time\r\n",
        "import math\r\n",
        "import random\r\n",
        "print('TensorFlow version (should be 2.4.1):  ',tf.__version__)"
      ],
      "execution_count": 1,
      "outputs": [
        {
          "output_type": "stream",
          "text": [
            "TensorFlow version (should be 2.4.1):   2.4.1\n"
          ],
          "name": "stdout"
        }
      ]
    },
    {
      "cell_type": "markdown",
      "metadata": {
        "id": "RPppKMxkOuIw"
      },
      "source": [
        "# Open, read and process the text file\r\n",
        "In our case the we use the log file from an Elevator Group Control System simulation - \"ElevatorLogFile.txt\""
      ]
    },
    {
      "cell_type": "code",
      "metadata": {
        "colab": {
          "base_uri": "https://localhost:8080/"
        },
        "id": "IHi_SsjgOkGR",
        "outputId": "e7cf3f09-9b05-4022-9709-5688fa041a1c"
      },
      "source": [
        "PATH_TO_FILE = \"/content/drive/MyDrive/Colab Notebooks/CS13ColabNotebooks/ElevatorLogFile.txt\"\r\n",
        "\r\n",
        "# Open and read the whole txt file\r\n",
        "def open_and_read_test_file (path :str):\r\n",
        "    with open(path) as text_file:\r\n",
        "        text = text_file.read()\r\n",
        "    print('Number of characters in the log file:', len(text))\r\n",
        "    print('Number of words in the log file (with whitespace as a splitter):', len(text.split()))\r\n",
        "    return text\r\n",
        "\r\n",
        "file_text = open_and_read_test_file(PATH_TO_FILE)"
      ],
      "execution_count": 2,
      "outputs": [
        {
          "output_type": "stream",
          "text": [
            "Number of characters in the log file: 73037\n",
            "Number of words in the log file (with whitespace as a splitter): 9010\n"
          ],
          "name": "stdout"
        }
      ]
    },
    {
      "cell_type": "markdown",
      "metadata": {
        "id": "FDu1Fqi2Y5d5"
      },
      "source": [
        "Creating a dictionary from a text file. \r\n",
        "We will use a character-level dictionary. To do this, you need to count the number of unique characters in the text file. Each character is then assigned a unique sequence number. As a result, we will get two dictionaries, one for converting characters to numbers, and the second for reverse conversion."
      ]
    },
    {
      "cell_type": "code",
      "metadata": {
        "colab": {
          "base_uri": "https://localhost:8080/"
        },
        "id": "LAASttqCZk-F",
        "outputId": "054c6248-4a00-4a3c-eedb-a322533b3034"
      },
      "source": [
        "def dictionary_from_text(text:str):\r\n",
        "  set_of_uniq_ch = set(text) # set of uniq characters from text\r\n",
        "  print('Number of uniq characters in the log file:', len(set_of_uniq_ch))\r\n",
        "  char_to_index = {char:index for index, char in enumerate(set_of_uniq_ch)}\r\n",
        "  index_to_char = {index:char for char,index in char_to_index.items()}\r\n",
        "  return char_to_index, index_to_char\r\n",
        "\r\n",
        "char_to_index, index_to_char =  dictionary_from_text(file_text)"
      ],
      "execution_count": 3,
      "outputs": [
        {
          "output_type": "stream",
          "text": [
            "Number of uniq characters in the log file: 54\n"
          ],
          "name": "stdout"
        }
      ]
    },
    {
      "cell_type": "markdown",
      "metadata": {
        "id": "S_qiB1ynb6cw"
      },
      "source": [
        "In order to make it convenient to use dictionaries, I will create two auxiliary functions, for converting text to numbers and for reverse conversion."
      ]
    },
    {
      "cell_type": "code",
      "metadata": {
        "id": "Efsc1wT_awSH"
      },
      "source": [
        "def text_to_numbers(dictionary: dict, text: str):\r\n",
        "  numbers = [dictionary[char] for char in text]\r\n",
        "  return numbers\r\n",
        "\r\n",
        "def numbers_to_text(dictionary: dict, numbers: list):\r\n",
        "  text =\"\"\r\n",
        "  for num in numbers:\r\n",
        "    # text += str(dictionary[num])\r\n",
        "    text += dictionary[num]\r\n",
        "  return text"
      ],
      "execution_count": 4,
      "outputs": []
    },
    {
      "cell_type": "markdown",
      "metadata": {
        "id": "zGiZZKUMcg3o"
      },
      "source": [
        "Now we can easily convert our entire text file to numbers"
      ]
    },
    {
      "cell_type": "code",
      "metadata": {
        "colab": {
          "base_uri": "https://localhost:8080/"
        },
        "id": "MfbEQXw9crGj",
        "outputId": "9e1bb6c0-4ccf-4283-c618-c1e670935ef2"
      },
      "source": [
        "whole_text_as_numbers = text_to_numbers(char_to_index, file_text)\r\n",
        "\r\n",
        "# Test:\r\n",
        "first_64_numbers = whole_text_as_numbers[0:64]\r\n",
        "print(\"First 64 numberst from 'whole_text_as_numbers':\")\r\n",
        "print(first_64_numbers)\r\n",
        "# test reverse conversion\r\n",
        "reverse_conversion = numbers_to_text(index_to_char, first_64_numbers)\r\n",
        "print(\"Conversin from numbers to text:\")\r\n",
        "print(reverse_conversion)"
      ],
      "execution_count": 5,
      "outputs": [
        {
          "output_type": "stream",
          "text": [
            "First 64 numberst from 'whole_text_as_numbers':\n",
            "[19, 49, 25, 7, 15, 18, 17, 33, 15, 51, 51, 50, 33, 47, 19, 49, 25, 7, 15, 18, 17, 33, 15, 51, 51, 50, 33, 25, 33, 50, 14, 16, 32, 48, 48, 48, 27, 1, 49, 25, 31, 14, 11, 11, 50, 18, 20, 50, 33, 47, 19, 49, 25, 35, 50, 18, 50, 33, 14, 17, 0, 18, 20, 25]\n",
            "Conversin from numbers to text:\n",
            "0: Controller_0: Controller ready...\n",
            "1: Passenger_0: Generating \n"
          ],
          "name": "stdout"
        }
      ]
    },
    {
      "cell_type": "markdown",
      "metadata": {
        "id": "nVWU16K_4oXn"
      },
      "source": [
        "To create a text generator, there are two ways to divide a sequence into x (input) and y(output, labels):\r\n",
        "![Split_seq.png](data:image/png;base64,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)\r\n"
      ]
    },
    {
      "cell_type": "code",
      "metadata": {
        "colab": {
          "base_uri": "https://localhost:8080/"
        },
        "id": "s9d03vFk54Yg",
        "outputId": "17d2b56a-9a9f-4804-93c0-20c87da740d1"
      },
      "source": [
        "#Split the input sequence into x and y, where x and y have the same shape\r\n",
        "def split_to_x_y(sequence: list, x_length: int = 128, step: int = 3):\r\n",
        "    x = []\r\n",
        "    y = []\r\n",
        "    for i in range(0, len(sequence) - x_length, step):\r\n",
        "        x.append(np.array(sequence[i: i + x_length]) )\r\n",
        "        y.append(np.array(sequence[i+1:i+1 + x_length]))\r\n",
        "    print(\"Number of sequences:\", len(x))\r\n",
        "    x = np.array(x)\r\n",
        "    y = np.array(y)   \r\n",
        "    print('x.shape=', x.shape)\r\n",
        "    print('y.shape=', y.shape)\r\n",
        "    return x , y\r\n",
        "\r\n",
        "# Left one last element in a sequence\r\n",
        "def take_last_element(original_y: np.array):\r\n",
        "  y_1 = [y[-1] for y in original_y]\r\n",
        "  y_1 = np.array(y_1) \r\n",
        "  print('y_1.shape=', y_1.shape)\r\n",
        "  return y_1\r\n",
        "\r\n",
        "x, y = split_to_x_y(whole_text_as_numbers, x_length = 128, step = 3)\r\n",
        "y_1 = take_last_element(y)"
      ],
      "execution_count": 6,
      "outputs": [
        {
          "output_type": "stream",
          "text": [
            "Number of sequences: 24303\n",
            "x.shape= (24303, 128)\n",
            "y.shape= (24303, 128)\n",
            "y_1.shape= (24303,)\n"
          ],
          "name": "stdout"
        }
      ]
    },
    {
      "cell_type": "markdown",
      "metadata": {
        "id": "T7QfdtamJXjW"
      },
      "source": [
        "# Important note about  the LSTM layer"
      ]
    },
    {
      "cell_type": "code",
      "metadata": {
        "id": "zXwGsS2mJjwO",
        "colab": {
          "base_uri": "https://localhost:8080/"
        },
        "outputId": "14c51077-8c9f-48c7-cffb-0de4b6b598b5"
      },
      "source": [
        "input = tf.random.normal(shape=(2,128,54))\r\n",
        "input.shape"
      ],
      "execution_count": 7,
      "outputs": [
        {
          "output_type": "execute_result",
          "data": {
            "text/plain": [
              "TensorShape([2, 128, 54])"
            ]
          },
          "metadata": {
            "tags": []
          },
          "execution_count": 7
        }
      ]
    },
    {
      "cell_type": "code",
      "metadata": {
        "colab": {
          "base_uri": "https://localhost:8080/"
        },
        "id": "n4hryKTiLNHA",
        "outputId": "2e59f666-da17-4a03-dfca-77dffa6bc803"
      },
      "source": [
        "lstm_v1 = tf.keras.layers.LSTM(8)\r\n",
        "output = lstm_v1(input)\r\n",
        "output.shape"
      ],
      "execution_count": 8,
      "outputs": [
        {
          "output_type": "execute_result",
          "data": {
            "text/plain": [
              "TensorShape([2, 8])"
            ]
          },
          "metadata": {
            "tags": []
          },
          "execution_count": 8
        }
      ]
    },
    {
      "cell_type": "code",
      "metadata": {
        "colab": {
          "base_uri": "https://localhost:8080/"
        },
        "id": "WD5N8ZYcLQNO",
        "outputId": "4775e7dc-ee53-4664-af27-05de5edeb4fa"
      },
      "source": [
        "lstm_v2 = tf.keras.layers.LSTM(8,return_sequences=True)\r\n",
        "whole_seq_output = lstm_v2(input)\r\n",
        "print(\"whole_seq_output.shape\", whole_seq_output.shape)"
      ],
      "execution_count": 9,
      "outputs": [
        {
          "output_type": "stream",
          "text": [
            "whole_seq_output.shape (2, 128, 8)\n"
          ],
          "name": "stdout"
        }
      ]
    },
    {
      "cell_type": "code",
      "metadata": {
        "colab": {
          "base_uri": "https://localhost:8080/"
        },
        "id": "wgd-1-yLLTVO",
        "outputId": "0e0afeba-0fbc-4b80-efbc-0aa11e94228e"
      },
      "source": [
        "lstm_v3 = tf.keras.layers.LSTM(8,return_sequences=True, return_state=True)\r\n",
        "whole_seq_output, final_memory_state, final_carry_state = lstm_v3(input)\r\n",
        "print(\"whole_seq_output.shape  \",    whole_seq_output.shape)\r\n",
        "print(\"final_memory_state.shape\",  final_memory_state.shape)\r\n",
        "print(\"final_carry_state.shape \",   final_carry_state.shape)"
      ],
      "execution_count": 10,
      "outputs": [
        {
          "output_type": "stream",
          "text": [
            "whole_seq_output.shape   (2, 128, 8)\n",
            "final_memory_state.shape (2, 8)\n",
            "final_carry_state.shape  (2, 8)\n"
          ],
          "name": "stdout"
        }
      ]
    },
    {
      "cell_type": "markdown",
      "metadata": {
        "id": "8XV5jhz6QNHJ"
      },
      "source": [
        "# One-hot encoding"
      ]
    },
    {
      "cell_type": "code",
      "metadata": {
        "colab": {
          "base_uri": "https://localhost:8080/"
        },
        "id": "Zli4_KvWQSGy",
        "outputId": "ed37a51f-6187-4718-b3b7-3387c1264286"
      },
      "source": [
        "dictionary_lenth = len(index_to_char)\r\n",
        "one_hot_matrix = np.eye(dictionary_lenth)\r\n",
        "print('one_hot_matrix.shape=', one_hot_matrix.shape)\r\n",
        "\r\n",
        "def array_of_seq_to_one_hot(array_of_seq:np.array, matrix: np.array):\r\n",
        "  one_hot_seq = np.array(\r\n",
        "    [np.array([matrix[:,ind] for ind in seq]) for seq in array_of_seq]\r\n",
        "    )\r\n",
        "  return one_hot_seq\r\n",
        "\r\n",
        "def array_of_int_to_one_hot(array_of_int:np.array, matrix: np.array):\r\n",
        "  one_hot_seq = np.array(\r\n",
        "    np.array([matrix[:,ind] for ind in array_of_int])\r\n",
        "    )\r\n",
        "  return one_hot_seq\r\n",
        "\r\n",
        "one_hot_x = array_of_seq_to_one_hot(x,one_hot_matrix)\r\n",
        "one_hot_y = array_of_seq_to_one_hot(y,one_hot_matrix)\r\n",
        "\r\n",
        "one_hot_y_1 = array_of_int_to_one_hot(y_1,one_hot_matrix)\r\n",
        "\r\n",
        "print('one_hot_x.shape:', one_hot_x.shape, \"# (batch_size, sequence_length, vocab_size)\")\r\n",
        "print('one_hot_y.shape:', one_hot_y.shape)\r\n",
        "print('one_hot_y_1.shape:', one_hot_y_1.shape)"
      ],
      "execution_count": 11,
      "outputs": [
        {
          "output_type": "stream",
          "text": [
            "one_hot_matrix.shape= (54, 54)\n",
            "one_hot_x.shape: (24303, 128, 54) # (batch_size, sequence_length, vocab_size)\n",
            "one_hot_y.shape: (24303, 128, 54)\n",
            "one_hot_y_1.shape: (24303, 54)\n"
          ],
          "name": "stdout"
        }
      ]
    },
    {
      "cell_type": "markdown",
      "metadata": {
        "id": "QYVhddmQPWhZ"
      },
      "source": [
        "# Text generator version 1, (LSTM with default setting )"
      ]
    },
    {
      "cell_type": "code",
      "metadata": {
        "id": "UbjNUxyLLWYu"
      },
      "source": [
        "text_generator_v1 = tf.keras.Sequential([\r\n",
        "    tf.keras.layers.LSTM(100),\r\n",
        "    tf.keras.layers.Dense(100),\r\n",
        "    tf.keras.layers.Dense(dictionary_lenth, activation=\"softmax\")\r\n",
        "])"
      ],
      "execution_count": null,
      "outputs": []
    },
    {
      "cell_type": "markdown",
      "metadata": {
        "id": "7mSNfM1QSeeG"
      },
      "source": [
        "Checking the model output shape:"
      ]
    },
    {
      "cell_type": "code",
      "metadata": {
        "colab": {
          "base_uri": "https://localhost:8080/"
        },
        "id": "8t-Y1FKPSweU",
        "outputId": "6ae53371-ca57-42db-befe-1138ce51a352"
      },
      "source": [
        "samlpe_input = one_hot_x[0:1]\r\n",
        "samlpe_output = text_generator_v1(samlpe_input)\r\n",
        "samlpe_output.shape"
      ],
      "execution_count": null,
      "outputs": [
        {
          "output_type": "execute_result",
          "data": {
            "text/plain": [
              "TensorShape([1, 54])"
            ]
          },
          "metadata": {
            "tags": []
          },
          "execution_count": 10
        }
      ]
    },
    {
      "cell_type": "code",
      "metadata": {
        "colab": {
          "base_uri": "https://localhost:8080/"
        },
        "id": "8pBqlUQtL3p_",
        "outputId": "e4642eff-096d-4b19-91a7-884bed884704"
      },
      "source": [
        "text_generator_v1.summary()"
      ],
      "execution_count": null,
      "outputs": [
        {
          "output_type": "stream",
          "text": [
            "Model: \"sequential\"\n",
            "_________________________________________________________________\n",
            "Layer (type)                 Output Shape              Param #   \n",
            "=================================================================\n",
            "lstm (LSTM)                  (1, 100)                  62000     \n",
            "_________________________________________________________________\n",
            "dense (Dense)                (1, 100)                  10100     \n",
            "_________________________________________________________________\n",
            "dense_1 (Dense)              (1, 54)                   5454      \n",
            "=================================================================\n",
            "Total params: 77,554\n",
            "Trainable params: 77,554\n",
            "Non-trainable params: 0\n",
            "_________________________________________________________________\n"
          ],
          "name": "stdout"
        }
      ]
    },
    {
      "cell_type": "code",
      "metadata": {
        "colab": {
          "base_uri": "https://localhost:8080/"
        },
        "id": "IoiOOjchSM0z",
        "outputId": "06dade66-d010-41af-9a98-30a27a119786"
      },
      "source": [
        "text_generator_v1.compile(optimizer='adam', loss=tf.losses.categorical_crossentropy)\r\n",
        "text_generator_v1.fit(x = one_hot_x, y = one_hot_y_1, epochs=12)"
      ],
      "execution_count": null,
      "outputs": [
        {
          "output_type": "stream",
          "text": [
            "Epoch 1/12\n",
            "760/760 [==============================] - 7s 7ms/step - loss: 2.6159\n",
            "Epoch 2/12\n",
            "760/760 [==============================] - 5s 7ms/step - loss: 0.8067\n",
            "Epoch 3/12\n",
            "760/760 [==============================] - 5s 7ms/step - loss: 0.5704\n",
            "Epoch 4/12\n",
            "760/760 [==============================] - 5s 7ms/step - loss: 0.4654\n",
            "Epoch 5/12\n",
            "760/760 [==============================] - 5s 7ms/step - loss: 0.4230\n",
            "Epoch 6/12\n",
            "760/760 [==============================] - 5s 7ms/step - loss: 0.4039\n",
            "Epoch 7/12\n",
            "760/760 [==============================] - 5s 7ms/step - loss: 0.3731\n",
            "Epoch 8/12\n",
            "760/760 [==============================] - 5s 7ms/step - loss: 0.3717\n",
            "Epoch 9/12\n",
            "760/760 [==============================] - 5s 7ms/step - loss: 0.3464\n",
            "Epoch 10/12\n",
            "760/760 [==============================] - 5s 7ms/step - loss: 0.3518\n",
            "Epoch 11/12\n",
            "760/760 [==============================] - 5s 7ms/step - loss: 0.3352\n",
            "Epoch 12/12\n",
            "760/760 [==============================] - 5s 7ms/step - loss: 0.3278\n"
          ],
          "name": "stdout"
        },
        {
          "output_type": "execute_result",
          "data": {
            "text/plain": [
              "<tensorflow.python.keras.callbacks.History at 0x7f22425ec8d0>"
            ]
          },
          "metadata": {
            "tags": []
          },
          "execution_count": 12
        }
      ]
    },
    {
      "cell_type": "markdown",
      "metadata": {
        "id": "565nldrjH-mb"
      },
      "source": [
        ""
      ]
    },
    {
      "cell_type": "code",
      "metadata": {
        "colab": {
          "base_uri": "https://localhost:8080/"
        },
        "id": "N59pcCEDH_Ei",
        "outputId": "cf474f99-2575-4f52-9d53-8e5da1758f38"
      },
      "source": [
        "start_text = 'Controller ready..'\r\n",
        "pred_lenth = 300\r\n",
        "\r\n",
        "# Convert start test to numbers\r\n",
        "encoded_start_text=text_to_numbers(char_to_index, start_text)\r\n",
        "\r\n",
        "gen_seq = encoded_start_text\r\n",
        "for _ in range(pred_lenth):\r\n",
        "  # print(gen_seq)\r\n",
        "  one_hot_gen_seq = np.array([array_of_int_to_one_hot(gen_seq, one_hot_matrix)])  \r\n",
        "  one_hot_pred = text_generator_v1(one_hot_gen_seq)  \r\n",
        "  pred_array = tf.squeeze(one_hot_pred).numpy()\r\n",
        "  \r\n",
        "  pred = np.array(np.argmax(pred_array), ndmin=1)\r\n",
        "  # pred = [np.random.choice(dictionary_lenth, p=pred_array)]\r\n",
        "  \r\n",
        "  # print(pred)\r\n",
        "  gen_seq = np.append(gen_seq, pred)\r\n",
        "\r\n",
        "gen_text = numbers_to_text(index_to_char, gen_seq)\r\n",
        "print(gen_text)\r\n",
        "\r\n"
      ],
      "execution_count": null,
      "outputs": [
        {
          "output_type": "stream",
          "text": [
            "Controller ready...\n",
            "1000.46: Passenger_14: Arriving with destination floor: 1\n",
            "1000.46: Passenger_24: Passenger arriving at floor: 0\n",
            "1000.46: Passenger_24: Passenger arriving at floor: 0\n",
            "1000.46: Passenger_24: Passenger arriving at floor: 0\n",
            "1000.46: Passenger_24: Passenger arriving at floor: 0\n",
            "1000.46: Passenger_24: P\n"
          ],
          "name": "stdout"
        }
      ]
    },
    {
      "cell_type": "code",
      "metadata": {
        "id": "8KWH77tUXi8r"
      },
      "source": [
        ""
      ],
      "execution_count": null,
      "outputs": []
    },
    {
      "cell_type": "markdown",
      "metadata": {
        "id": "2SEldPKFXmQY"
      },
      "source": [
        "# Text generator version 2, (LSTM with  return_sequences=True) "
      ]
    },
    {
      "cell_type": "code",
      "metadata": {
        "id": "SZNq80UuX-gd"
      },
      "source": [
        "text_generator_v2 = tf.keras.Sequential([\r\n",
        "    tf.keras.layers.LSTM(100, return_sequences=True),\r\n",
        "    tf.keras.layers.Dense(100),\r\n",
        "    tf.keras.layers.Dense(dictionary_lenth, activation=\"softmax\")\r\n",
        "])"
      ],
      "execution_count": 8,
      "outputs": []
    },
    {
      "cell_type": "markdown",
      "metadata": {
        "id": "jSbFuHYaYKnx"
      },
      "source": [
        "Checking the model output shape:"
      ]
    },
    {
      "cell_type": "code",
      "metadata": {
        "colab": {
          "base_uri": "https://localhost:8080/"
        },
        "id": "vLGIomXQYLIo",
        "outputId": "bf6ab46c-654d-499e-db4d-f1324b842f12"
      },
      "source": [
        "samlpe_input = one_hot_x[0:1]\r\n",
        "samlpe_output = text_generator_v2(samlpe_input)\r\n",
        "samlpe_output.shape"
      ],
      "execution_count": 9,
      "outputs": [
        {
          "output_type": "execute_result",
          "data": {
            "text/plain": [
              "TensorShape([1, 128, 54])"
            ]
          },
          "metadata": {
            "tags": []
          },
          "execution_count": 9
        }
      ]
    },
    {
      "cell_type": "code",
      "metadata": {
        "colab": {
          "base_uri": "https://localhost:8080/"
        },
        "id": "pUHtWXCpYNfR",
        "outputId": "67b35853-8c6d-4cf2-8811-0b95ed55440c"
      },
      "source": [
        "text_generator_v2.compile(optimizer='adam', loss=tf.losses.categorical_crossentropy)\r\n",
        "text_generator_v2.fit(x = one_hot_x, y = one_hot_y, epochs=12)"
      ],
      "execution_count": 10,
      "outputs": [
        {
          "output_type": "stream",
          "text": [
            "Epoch 1/12\n",
            "760/760 [==============================] - 10s 11ms/step - loss: 1.8652\n",
            "Epoch 2/12\n",
            "760/760 [==============================] - 8s 11ms/step - loss: 0.4025\n",
            "Epoch 3/12\n",
            "760/760 [==============================] - 8s 11ms/step - loss: 0.3483\n",
            "Epoch 4/12\n",
            "760/760 [==============================] - 8s 11ms/step - loss: 0.3204\n",
            "Epoch 5/12\n",
            "760/760 [==============================] - 8s 11ms/step - loss: 0.2998\n",
            "Epoch 6/12\n",
            "760/760 [==============================] - 8s 11ms/step - loss: 0.2812\n",
            "Epoch 7/12\n",
            "760/760 [==============================] - 8s 11ms/step - loss: 0.2629\n",
            "Epoch 8/12\n",
            "760/760 [==============================] - 8s 11ms/step - loss: 0.2417\n",
            "Epoch 9/12\n",
            "760/760 [==============================] - 8s 11ms/step - loss: 0.2258\n",
            "Epoch 10/12\n",
            "760/760 [==============================] - 8s 11ms/step - loss: 0.2095\n",
            "Epoch 11/12\n",
            "760/760 [==============================] - 8s 11ms/step - loss: 0.1940\n",
            "Epoch 12/12\n",
            "760/760 [==============================] - 8s 11ms/step - loss: 0.1813\n"
          ],
          "name": "stdout"
        },
        {
          "output_type": "execute_result",
          "data": {
            "text/plain": [
              "<tensorflow.python.keras.callbacks.History at 0x7fb68023e6d0>"
            ]
          },
          "metadata": {
            "tags": []
          },
          "execution_count": 10
        }
      ]
    },
    {
      "cell_type": "code",
      "metadata": {
        "colab": {
          "base_uri": "https://localhost:8080/"
        },
        "id": "zEcK7enBaChi",
        "outputId": "896b3287-409e-4a7a-dc9d-16ce95ee7cf2"
      },
      "source": [
        "start_text = 'Controller ready'\r\n",
        "encoded_start_text=text_to_numbers(char_to_index, start_text)\r\n",
        "one_hot_start_text = np.array([array_of_int_to_one_hot(encoded_start_text, one_hot_matrix)])\r\n",
        "one_hot_pred = text_generator_v2(one_hot_start_text)  \r\n",
        "pred_array = tf.squeeze(one_hot_pred).numpy()\r\n",
        "print('pred_array.shape',pred_array.shape)\r\n",
        "\r\n",
        "ids = [np.argmax(seq) for seq in pred_array]\r\n",
        "gen_text = numbers_to_text(index_to_char, ids)\r\n",
        "print(\"Generated text:\", gen_text)"
      ],
      "execution_count": 11,
      "outputs": [
        {
          "output_type": "stream",
          "text": [
            "pred_array.shape (16, 54)\n",
            "Generated text: ontroller_ready.\n"
          ],
          "name": "stdout"
        }
      ]
    },
    {
      "cell_type": "code",
      "metadata": {
        "id": "ROgVD9c6HQip"
      },
      "source": [
        "last_ch_v2 = pred_array[-1]\r\n",
        "last_ch_v2"
      ],
      "execution_count": null,
      "outputs": []
    },
    {
      "cell_type": "code",
      "metadata": {
        "colab": {
          "base_uri": "https://localhost:8080/"
        },
        "id": "WA8TJKA_ZzH6",
        "outputId": "332dc7c0-183d-4a84-d6d2-19f52013b3cd"
      },
      "source": [
        "pred_lenth = 300\r\n",
        "\r\n",
        "# Convert start test to numbers\r\n",
        "encoded_start_text=text_to_numbers(char_to_index, start_text)\r\n",
        "\r\n",
        "gen_seq = encoded_start_text\r\n",
        "for _ in range(pred_lenth):\r\n",
        "  # print(gen_seq)\r\n",
        "  one_hot_gen_seq = np.array([array_of_int_to_one_hot(gen_seq, one_hot_matrix)])  \r\n",
        "  one_hot_pred = text_generator_v2(one_hot_gen_seq)  \r\n",
        "  pred_array = tf.squeeze(one_hot_pred).numpy()\r\n",
        "  \r\n",
        "  ids = [np.argmax(seq) for seq in pred_array]\r\n",
        "  # ids = [np.random.choice(dictionary_lenth, p=seq) for seq in pred_array]\r\n",
        "  pred = ids[-1]\r\n",
        "\r\n",
        "  gen_seq = np.append(gen_seq, pred)\r\n",
        "\r\n",
        "gen_text = numbers_to_text(index_to_char, gen_seq)\r\n",
        "print(gen_text)"
      ],
      "execution_count": 14,
      "outputs": [
        {
          "output_type": "stream",
          "text": [
            "Controller ready...\n",
            "1396.46: Passenger_35: Not my destination floor\n",
            "1752.46: Passenger_31: Activity time 184.865058482379\n",
            "1380.46: Passenger_27: Leaving elevator\n",
            "1732.46: Passenger_35: Not my destination floor\n",
            "1714.46: Passenger_37: Not my destination floor\n",
            "1714.46: Passenger_37: Not my destination floor\n",
            "1714.46: P\n"
          ],
          "name": "stdout"
        }
      ]
    },
    {
      "cell_type": "markdown",
      "metadata": {
        "id": "V88EiOeO2OC1"
      },
      "source": [
        "# Can we use this text generator to build a GAN? "
      ]
    },
    {
      "cell_type": "markdown",
      "metadata": {
        "id": "fwr2i0KT6GDn"
      },
      "source": [
        "##  Obvious issues:\r\n",
        "1. At the output of the generator, we have the probability of the next character, so we have to choose the next character. \r\n",
        "2. To generate a sequence of 128 characters, you need to run the generator 128 times, only after that the resulting sequence can be passed to the discriminator."
      ]
    },
    {
      "cell_type": "markdown",
      "metadata": {
        "id": "ZSs0CDky2ngF"
      },
      "source": [
        "![GAN with text gen.png](data:image/png;base64,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)"
      ]
    },
    {
      "cell_type": "markdown",
      "metadata": {
        "id": "8jEBTh7S71AC"
      },
      "source": [
        "# Text generator version 3, (with Gumbel-Softmax layer)\r\n",
        "https://www.tensorflow.org/probability/api_docs/python/tfp/distributions/RelaxedOneHotCategorical\r\n",
        "\r\n",
        "The generator version 2 is used with RelaxedOneHotCategorical additional layer. "
      ]
    },
    {
      "cell_type": "code",
      "metadata": {
        "id": "Z_oPDiPJ2Zg7"
      },
      "source": [
        "class GumbelGenerator(tf.keras.Model):\r\n",
        "  def __init__(self, vocab_size, temperature):\r\n",
        "    super().__init__(self)\r\n",
        "    self.temperature = temperature \r\n",
        "    self.generator = tf.keras.Sequential([\r\n",
        "      tf.keras.layers.LSTM(units=100, return_sequences=True),\r\n",
        "      tf.keras.layers.Dense(100), \r\n",
        "      tf.keras.layers.Dense(vocab_size)   \r\n",
        "    ], name = 'GumbelGenerator' )\r\n",
        "\r\n",
        "  \r\n",
        "  \r\n",
        "  def call(self, inputs):\r\n",
        "    x = inputs\r\n",
        "    x = self.generator(x)\r\n",
        "    RelaxedOneHotCategorical = tfp.distributions.RelaxedOneHotCategorical(temperature=self.temperature, logits=x)\r\n",
        "    x = RelaxedOneHotCategorical.sample()\r\n",
        "    return x"
      ],
      "execution_count": 12,
      "outputs": []
    },
    {
      "cell_type": "code",
      "metadata": {
        "id": "C0kzqL8T9rex"
      },
      "source": [
        "temperature = 0.5\r\n",
        "text_generator_v3 = GumbelGenerator(vocab_size = dictionary_lenth, temperature = temperature)"
      ],
      "execution_count": 13,
      "outputs": []
    },
    {
      "cell_type": "code",
      "metadata": {
        "colab": {
          "base_uri": "https://localhost:8080/"
        },
        "id": "O5-b4t5q-Nz2",
        "outputId": "80246d76-e552-4f33-850f-7bff05d36529"
      },
      "source": [
        "# gen_v3_loss = tf.losses.categorical_crossentropy\r\n",
        "text_generator_v3.compile(optimizer='adam', loss=tf.losses.categorical_crossentropy)\r\n",
        "text_generator_v3.fit(x = one_hot_x, y = one_hot_y, epochs=6)\r\n",
        "\r\n",
        "text_generator_v3.temperature = 0.25\r\n",
        "text_generator_v3.fit(x = one_hot_x, y = one_hot_y, epochs=5)\r\n",
        "\r\n",
        "text_generator_v3.temperature = 0.1\r\n",
        "text_generator_v3.fit(x = one_hot_x, y = one_hot_y, epochs=4)\r\n",
        "\r\n",
        "text_generator_v3.temperature = 0.01\r\n",
        "text_generator_v3.fit(x = one_hot_x, y = one_hot_y, epochs=3)\r\n",
        "\r\n",
        "text_generator_v3.temperature = 0.001\r\n",
        "text_generator_v3.fit(x = one_hot_x, y = one_hot_y, epochs=2)"
      ],
      "execution_count": 14,
      "outputs": [
        {
          "output_type": "stream",
          "text": [
            "Epoch 1/5\n",
            "760/760 [==============================] - 12s 11ms/step - loss: 4.1573\n",
            "Epoch 2/5\n",
            "760/760 [==============================] - 8s 11ms/step - loss: 1.0003\n",
            "Epoch 3/5\n",
            "760/760 [==============================] - 8s 11ms/step - loss: 0.8609\n",
            "Epoch 4/5\n",
            "760/760 [==============================] - 8s 11ms/step - loss: 0.7982\n",
            "Epoch 5/5\n",
            "760/760 [==============================] - 8s 11ms/step - loss: 0.7526\n",
            "Epoch 1/4\n",
            "760/760 [==============================] - 8s 11ms/step - loss: 0.7038\n",
            "Epoch 2/4\n",
            "760/760 [==============================] - 8s 11ms/step - loss: 0.6693\n",
            "Epoch 3/4\n",
            "760/760 [==============================] - 8s 11ms/step - loss: 0.6356\n",
            "Epoch 4/4\n",
            "760/760 [==============================] - 8s 11ms/step - loss: 0.6018\n",
            "Epoch 1/3\n",
            "760/760 [==============================] - 8s 11ms/step - loss: 0.5711\n",
            "Epoch 2/3\n",
            "760/760 [==============================] - 8s 11ms/step - loss: 0.5420\n",
            "Epoch 3/3\n",
            "760/760 [==============================] - 8s 11ms/step - loss: 0.5136\n",
            "Epoch 1/2\n",
            "760/760 [==============================] - 8s 11ms/step - loss: 0.4892\n",
            "Epoch 2/2\n",
            "760/760 [==============================] - 8s 11ms/step - loss: 0.4662\n",
            "Epoch 1/3\n",
            "760/760 [==============================] - 8s 11ms/step - loss: 0.4475\n",
            "Epoch 2/3\n",
            "760/760 [==============================] - 8s 11ms/step - loss: 0.4293\n",
            "Epoch 3/3\n",
            "760/760 [==============================] - 8s 11ms/step - loss: 0.4113\n"
          ],
          "name": "stdout"
        },
        {
          "output_type": "execute_result",
          "data": {
            "text/plain": [
              "<tensorflow.python.keras.callbacks.History at 0x7f46820127d0>"
            ]
          },
          "metadata": {
            "tags": []
          },
          "execution_count": 14
        }
      ]
    },
    {
      "cell_type": "code",
      "metadata": {
        "colab": {
          "base_uri": "https://localhost:8080/"
        },
        "id": "e6kZKRL9BrB-",
        "outputId": "812fad10-5145-4490-aad9-6dfcba2bda81"
      },
      "source": [
        "start_text = 'Controller ready'\r\n",
        "encoded_start_text=text_to_numbers(char_to_index, start_text)\r\n",
        "one_hot_start_text = np.array([array_of_int_to_one_hot(encoded_start_text, one_hot_matrix)])\r\n",
        "\r\n",
        "one_hot_pred = text_generator_v3(one_hot_start_text)  \r\n",
        "pred_array = tf.squeeze(one_hot_pred).numpy()\r\n",
        "print('pred_array.shape',pred_array.shape)\r\n",
        "\r\n",
        "ids = [np.argmax(seq) for seq in pred_array]\r\n",
        "gen_text = numbers_to_text(index_to_char, ids)\r\n",
        "print(\"Generated text:\", gen_text)"
      ],
      "execution_count": 18,
      "outputs": [
        {
          "output_type": "stream",
          "text": [
            "pred_array.shape (16, 54)\n",
            "Generated text: ontroller_ready.\n"
          ],
          "name": "stdout"
        }
      ]
    },
    {
      "cell_type": "code",
      "metadata": {
        "colab": {
          "base_uri": "https://localhost:8080/"
        },
        "id": "r03uY040Gyfr",
        "outputId": "2a5b7018-b12a-4405-af35-860a21677f17"
      },
      "source": [
        "last_ch_v3 = pred_array[-1]\r\n",
        "last_ch_v3"
      ],
      "execution_count": 23,
      "outputs": [
        {
          "output_type": "execute_result",
          "data": {
            "text/plain": [
              "array([0., 0., 0., 0., 0., 0., 0., 0., 0., 0., 0., 0., 0., 0., 0., 0., 0.,\n",
              "       0., 0., 0., 0., 0., 0., 0., 0., 0., 0., 0., 0., 0., 0., 0., 0., 0.,\n",
              "       0., 0., 0., 0., 0., 0., 0., 0., 0., 0., 0., 0., 0., 0., 1., 0., 0.,\n",
              "       0., 0., 0.], dtype=float32)"
            ]
          },
          "metadata": {
            "tags": []
          },
          "execution_count": 23
        }
      ]
    },
    {
      "cell_type": "code",
      "metadata": {
        "colab": {
          "base_uri": "https://localhost:8080/"
        },
        "id": "r1v3cQF-Hg09",
        "outputId": "9b89b62d-a6b6-408b-db62-81bdde3e949b"
      },
      "source": [
        "pred_lenth = 300\r\n",
        "\r\n",
        "# Convert start test to numbers\r\n",
        "encoded_start_text=text_to_numbers(char_to_index, start_text)\r\n",
        "\r\n",
        "gen_seq = encoded_start_text\r\n",
        "for _ in range(pred_lenth):\r\n",
        "  # print(gen_seq)\r\n",
        "  one_hot_gen_seq = np.array([array_of_int_to_one_hot(gen_seq, one_hot_matrix)])  \r\n",
        "  one_hot_pred = text_generator_v3(one_hot_gen_seq)  \r\n",
        "  pred_array = tf.squeeze(one_hot_pred).numpy()\r\n",
        "  \r\n",
        "  ids = [np.argmax(seq) for seq in pred_array]\r\n",
        "  # ids = [np.random.choice(dictionary_lenth, p=seq) for seq in pred_array]\r\n",
        "  pred = ids[-1]\r\n",
        "\r\n",
        "  gen_seq = np.append(gen_seq, pred)\r\n",
        "\r\n",
        "gen_text = numbers_to_text(index_to_char, gen_seq)\r\n",
        "print(gen_text)"
      ],
      "execution_count": 26,
      "outputs": [
        {
          "output_type": "stream",
          "text": [
            "Controller ready...\n",
            "2139.43: Passenger_42: Activity time 81.227260372436\n",
            "2736.48: Controller_0: Closing doors\n",
            "2239.58: Controller_0: Checont eler_0: Picondl\n",
            "757.46: Controller_0: Closing doors\n",
            "700.26: Controller_0: Elevator departing to floor floor 6\n",
            "1574.46: Controller_0: Current elevator floor: 5\n",
            "1506.46: Control\n"
          ],
          "name": "stdout"
        }
      ]
    }
  ]
}